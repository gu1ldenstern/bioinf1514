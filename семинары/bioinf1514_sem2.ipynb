{
  "nbformat": 4,
  "nbformat_minor": 0,
  "metadata": {
    "colab": {
      "name": "bioinf1514_sem2.ipynb",
      "provenance": [],
      "collapsed_sections": []
    },
    "kernelspec": {
      "name": "python3",
      "display_name": "Python 3"
    },
    "language_info": {
      "name": "python"
    }
  },
  "cells": [
    {
      "cell_type": "markdown",
      "source": [
        "ребятам, которые уже сдали домашки!\n",
        "\n",
        "![picture](https://drive.google.com/uc?export=view&id=1ytk03Zr169TvE3_8iodEBkTd6FMIW5gn)"
      ],
      "metadata": {
        "id": "e_dXf-tocVPL"
      }
    },
    {
      "cell_type": "markdown",
      "source": [
        "привет!! сегодня у нас много всего, но начнем с разминки: "
      ],
      "metadata": {
        "id": "rJkweuVGmMCW"
      }
    },
    {
      "cell_type": "markdown",
      "source": [
        "## Разминка: задача 1"
      ],
      "metadata": {
        "id": "s_zClPotpclX"
      }
    },
    {
      "cell_type": "markdown",
      "source": [
        "GC-состав - доля остатков гуанина и цитозина среди всех нуклеотидов последовательности. У разных животных GC состав разный: у человека он равен примерно 41%, а у утконоса примерно 45%. Перед вами последовательность неизвестного животного - определите, кому она с большей вероятностью принадлежит - утконосу или человеку.\n",
        "Формула, по которой GC-контент считается - \n",
        "\n",
        "$GC\\% = \\dfrac{G+C}{L} *100 $, где L - длина последовательности, а G и C - количество соответствующих нуклеотидов\n",
        "\n",
        "За отсечку можете взять 43%"
      ],
      "metadata": {
        "id": "Pme78o9zpfW4"
      }
    },
    {
      "cell_type": "code",
      "source": [
        "dna_string = 'CAGACCCAGGAGAGCTTCCCCCACTGCCCCCCAGTTCTTTTCCTGGACAGATGGACCCTTTACCGCCTCCTAGTTAGCCTCAAGAGGCAACAGTTGGTTCATGTCATTTACCCACTTTTTGATGGGATTATCTGGGGATTTTTTTGTTGATTTGATTGAGTTCCTTGTATATTCTGGATATTAGTCCTTTGTCAGATGCATAGTTTGCAAATATTTTCTGCCATTCTGTGGGTTGTCAGTCTAACCATTTGTACCCCCAAAAGCTATCAAAATAAAATATATGTATATATAAAGAAGAGGGAAAAAAAGAGTCAGCAATCAGGTCAGGCTGACAGCTGCAGCAGTTTAGA'"
      ],
      "metadata": {
        "id": "nCe1crbopeie"
      },
      "execution_count": 1,
      "outputs": []
    },
    {
      "cell_type": "code",
      "source": [
        "# ваш код"
      ],
      "metadata": {
        "id": "6mt5uUgI0qSm"
      },
      "execution_count": null,
      "outputs": []
    },
    {
      "cell_type": "markdown",
      "source": [
        "**Ваш код:**"
      ],
      "metadata": {
        "id": "9YeNxUKq0sFc"
      }
    },
    {
      "cell_type": "markdown",
      "source": [
        "# Алгоритм Нидлмана-Вунша"
      ],
      "metadata": {
        "id": "Lxe2i-1ct9Mq"
      }
    },
    {
      "cell_type": "markdown",
      "source": [
        "## подготовка"
      ],
      "metadata": {
        "id": "sa7ggZ9RJmna"
      }
    },
    {
      "cell_type": "markdown",
      "source": [
        "Сперва поймем как решать маленький кусочек задачи: нам придется по двум нуклеотидам из разных последовательностей находить score для этого сочетания из таблицы DNAfull\n",
        "\n",
        "![picture](https://drive.google.com/uc?export=view&id=153PAasNiOgUCTA15aMI7i4vRUuoAPWb9)\n",
        "\n",
        "Сначала попытаемся задать матрицу чисел. Матрица в простейшем своем виде - это список списков. Из нее мы можем вытаскивать числа по индексам, как делали со строчками, только теперь чтобы вытащить одно число нам потребуется 2 индекса: один для внешнего списка, другой для внутреннего. Вот вам простой пример:"
      ],
      "metadata": {
        "id": "IE33t5-N1c9b"
      }
    },
    {
      "cell_type": "code",
      "source": [
        "matrix = [[1, 2, 3], [4, 5, 6], [7, 8, 9]]"
      ],
      "metadata": {
        "id": "92nZW2Uzsv3p"
      },
      "execution_count": null,
      "outputs": []
    },
    {
      "cell_type": "markdown",
      "source": [
        "Это матрица 3*3 - потому что в каждом внутреннем списке 3 элемента (это наши строчки) и всего внутренних списков 3 (они образуют столбец). Выведем эту матрицу красиво и полюбуемся на нее:"
      ],
      "metadata": {
        "id": "hfujKNfk8Dwf"
      }
    },
    {
      "cell_type": "code",
      "source": [
        "for row in matrix:\n",
        "  print(*row)"
      ],
      "metadata": {
        "colab": {
          "base_uri": "https://localhost:8080/"
        },
        "id": "c66X6qcJ8Rq-",
        "outputId": "b11a4409-7b9a-4e85-e229-7f0b76584d9e"
      },
      "execution_count": null,
      "outputs": [
        {
          "output_type": "stream",
          "name": "stdout",
          "text": [
            "1 2 3\n",
            "4 5 6\n",
            "7 8 9\n"
          ]
        }
      ]
    },
    {
      "cell_type": "markdown",
      "source": [
        "Теперь в этой матрице попытаемся обратиться к двойке - она находится в первой строчке (нулевой, если по-питоновски) на втором месте (на первом). Значит сначала индексируем нулевую строку, а потом первое место в ней. Вот так:"
      ],
      "metadata": {
        "id": "3jB5vsD68ZQ0"
      }
    },
    {
      "cell_type": "code",
      "source": [
        "matrix[0][1]"
      ],
      "metadata": {
        "colab": {
          "base_uri": "https://localhost:8080/"
        },
        "id": "L7phVzKe8VwG",
        "outputId": "5ad98729-50f7-4750-946a-d695b2d121ca"
      },
      "execution_count": null,
      "outputs": [
        {
          "output_type": "execute_result",
          "data": {
            "text/plain": [
              "2"
            ]
          },
          "metadata": {},
          "execution_count": 28
        }
      ]
    },
    {
      "cell_type": "markdown",
      "source": [
        "В такой список списков запишем нашу DNAfull и посмотрим, что получится)"
      ],
      "metadata": {
        "id": "XfjsYW_k-hKL"
      }
    },
    {
      "cell_type": "code",
      "source": [
        "DNAfull = [[2, -1, -2, -2], [-1, 2, -2, -2], [-2, -2, 2, -1], [-2, -2, -1, 2]]\n",
        "\n",
        "for row in DNAfull:\n",
        "  print(*row, sep = '\\t')"
      ],
      "metadata": {
        "colab": {
          "base_uri": "https://localhost:8080/"
        },
        "id": "5_bRF1308n9u",
        "outputId": "a42737e5-5ff1-4273-82be-9c9d98cb1488"
      },
      "execution_count": null,
      "outputs": [
        {
          "output_type": "stream",
          "name": "stdout",
          "text": [
            "2\t-1\t-2\t-2\n",
            "-1\t2\t-2\t-2\n",
            "-2\t-2\t2\t-1\n",
            "-2\t-2\t-1\t2\n"
          ]
        }
      ]
    },
    {
      "cell_type": "markdown",
      "source": [
        "Нам нужно как-то обращаться к этим числам, зная два нуклеотида. Но пока что мы можем обращаться только по индексам - то есть цифрам. Нам нужен какой-то способ сделать так, чтобы мы писали букву нуклеотида, а программа идентифицировала бы эту букву как индекс, то есть номер. Для этого пригодятся словари - они буквально нужны для перевода с одного языка на другой)\n",
        "\n",
        "Словарь ниже переводит несколько букв с одной раскладки в другую. Теперь когда мы захотим получить результат перевода буквы k в русскую раскладку надо написать конструкцию вида <название словаря>[<элемент, который вытаскиваем>]"
      ],
      "metadata": {
        "id": "lrlMrQsEBzPE"
      }
    },
    {
      "cell_type": "code",
      "source": [
        "dict = {'t': 'е', 's': 'ы', 'k':'л'}\n",
        "dict['t']"
      ],
      "metadata": {
        "colab": {
          "base_uri": "https://localhost:8080/",
          "height": 35
        },
        "id": "OLMUMYgM-01k",
        "outputId": "b8495e18-4982-4f97-dba5-aa65e682dd68"
      },
      "execution_count": null,
      "outputs": [
        {
          "output_type": "execute_result",
          "data": {
            "application/vnd.google.colaboratory.intrinsic+json": {
              "type": "string"
            },
            "text/plain": [
              "'е'"
            ]
          },
          "metadata": {},
          "execution_count": 3
        }
      ]
    },
    {
      "cell_type": "markdown",
      "source": [
        "В DNAfull буква C соответствует нулевому индексу, T - первому, A - второму и G - третьему. Сделаем такой словарь)\n",
        "\n",
        "Обратимся по букве A - должно быть выдано число 2"
      ],
      "metadata": {
        "id": "_5FWoxs2DNVd"
      }
    },
    {
      "cell_type": "code",
      "source": [
        "dDNA = {'A': 2, 'C': 0, 'G': 3, 'T': 1}"
      ],
      "metadata": {
        "id": "15aEonvx-zQF"
      },
      "execution_count": null,
      "outputs": []
    },
    {
      "cell_type": "code",
      "source": [
        "dDNA['A']"
      ],
      "metadata": {
        "colab": {
          "base_uri": "https://localhost:8080/"
        },
        "id": "MFG2XkwDDZqA",
        "outputId": "fa59a853-1ddd-48a5-c2ff-407b1131b398"
      },
      "execution_count": null,
      "outputs": [
        {
          "output_type": "execute_result",
          "data": {
            "text/plain": [
              "2"
            ]
          },
          "metadata": {},
          "execution_count": 5
        }
      ]
    },
    {
      "cell_type": "markdown",
      "source": [
        "Теперь объединим и наш словарь, и нашу матрицу в единую конструкцию. На вход нам дается два нуклеотида: сначала мы находим соответствующие им индексы по словарю, а после возьмем число по этим индексам в матрице\n",
        "\n",
        "![picture](https://drive.google.com/uc?export=view&id=153PAasNiOgUCTA15aMI7i4vRUuoAPWb9)"
      ],
      "metadata": {
        "id": "wtA4XMj0DsMy"
      }
    },
    {
      "cell_type": "code",
      "source": [
        "DNAfull[dDNA['A']][dDNA['C']]"
      ],
      "metadata": {
        "colab": {
          "base_uri": "https://localhost:8080/"
        },
        "id": "8VZu98fkDapQ",
        "outputId": "5eb309a1-de54-4348-c8eb-c5930fa21fae"
      },
      "execution_count": null,
      "outputs": [
        {
          "output_type": "execute_result",
          "data": {
            "text/plain": [
              "-2"
            ]
          },
          "metadata": {},
          "execution_count": 8
        }
      ]
    },
    {
      "cell_type": "markdown",
      "source": [
        "Действительно, на пересечении C и А -2. Можете поиграться, попробовать другие числа - все должно работать)"
      ],
      "metadata": {
        "id": "NhuVusmWEGzT"
      }
    },
    {
      "cell_type": "code",
      "source": [
        "# ваши приколы"
      ],
      "metadata": {
        "id": "QoQiQGWvEBge"
      },
      "execution_count": null,
      "outputs": []
    },
    {
      "cell_type": "markdown",
      "source": [
        "## основной алгоритм"
      ],
      "metadata": {
        "id": "ADLY-N4ZJq5K"
      }
    },
    {
      "cell_type": "markdown",
      "source": [
        "Теперь подготовительная часть закончена, пора к делу приступать. Я на лекции рассказывала, что если мы считаем только score, нам достаточно держать в памяти только две строчки - по предыдущей мы всегда сможем восстановить следующую. \n",
        "\n",
        "Чтобы этот код работал, вам надо будет заполнить пропуски. Это несложно и я буду вам помогать) Пропуски следующие:"
      ],
      "metadata": {
        "id": "EFNcEV1hE8sy"
      }
    },
    {
      "cell_type": "markdown",
      "source": [
        "**d - цена гэпа**. можете выбрать любое число > 0, либо число, предложенное на лекции\n",
        "\n",
        "**a_row - самая первая строчка**. как вы помните, она выглядит как\n",
        "\n",
        "[0, -10, -20, -30, -40... (длина = длине строчки а + 1)\n",
        "\n",
        "это список. попробуйте использовать цикл for. чтобы добавить в список новое значение используется комманда append\n"
      ],
      "metadata": {
        "id": "4cf8YxMKHkbz"
      }
    },
    {
      "cell_type": "code",
      "source": [
        "l = [1]\n",
        "l.append(3)\n",
        "print(l)"
      ],
      "metadata": {
        "colab": {
          "base_uri": "https://localhost:8080/"
        },
        "id": "YEpI2pXqIRV9",
        "outputId": "3fc83bf3-5b98-43fe-ce15-c8c5bf5d3af6"
      },
      "execution_count": null,
      "outputs": [
        {
          "output_type": "stream",
          "name": "stdout",
          "text": [
            "[1, 3]\n"
          ]
        }
      ]
    },
    {
      "cell_type": "markdown",
      "source": [
        "Чтобы определить следующее значение в нашей новой строчке таблицы мы должны сравнить 3 числа, получающиеся из перехода сверху, слева и с диагонали. Вам нужно будет написать, как посчитать эти числа! Все данные у вас есть. Это, наверное, будет самый сложный кусок\n",
        "\n",
        "![picture](https://drive.google.com/uc?export=view&id=1rUGUUGyoOHQr2TyngBPETejZ_ZsjI9Wz)\n",
        "\n",
        "\n",
        "Вот вы прошли всю табличку целиком - в b_row записана последняя строка. Где в последней строке можно найти score? Выведите его"
      ],
      "metadata": {
        "id": "7TMGuFGKIYX1"
      }
    },
    {
      "cell_type": "code",
      "source": [
        "a = input()\n",
        "b = input()\n",
        "d = # цена гэпа\n",
        "\n",
        "a_row = # первая строчка\n",
        "\n",
        "for i in range (len(b)):\n",
        "    b_row = # первое число новой строки\n",
        "    for j in range (1, len(a_row)):\n",
        "        up = # переход сверху\n",
        "        left = # переход слева\n",
        "        diag = # переход с диагонали\n",
        "        b_row.append(max(up, left, diag))\n",
        "    a_row = b_row\n",
        "\n",
        "#выведите score"
      ],
      "metadata": {
        "id": "8M7QiaVdE7mu"
      },
      "execution_count": null,
      "outputs": []
    },
    {
      "cell_type": "markdown",
      "source": [
        "# Нидлман-Вунш в интернетах"
      ],
      "metadata": {
        "id": "5w_Y31lZMO15"
      }
    },
    {
      "cell_type": "markdown",
      "source": [
        "Помните, как я показывала вам формат FASTA? Сейчас научу его искать) Это делается на сайте https://www.ncbi.nlm.nih.gov/gene. В поисковую строку можно вбить название гена и вы найдете последовательности для всех организмов, для которых этот ген был отсеквенирован. После нажатия энтера справа появится меню, где организмы можно будет фильтровать. Как отфильтруете (если вам нужно) - нажмите на синее название гена в таблице и вам откроется страничка про него. Сверху кнопка - download datasets. Оттуда качается zip архив с нужными вам FASTA файлами."
      ],
      "metadata": {
        "id": "9isN22KTN4WD"
      }
    },
    {
      "cell_type": "markdown",
      "source": [
        "Скачайте нуклеотидные и аминокислотные последовательности, кодирующие бета-актин (ACTB) для человека и мыши (Mus Musculus). Их, при желании, можно открыть через блокнот, но это нам не понадобится)"
      ],
      "metadata": {
        "id": "Xc-avTOxPHa4"
      }
    },
    {
      "cell_type": "markdown",
      "source": [
        "Этот сайт: https://www.ebi.ac.uk/Tools/psa/emboss_needle/ делает вам выравнивание по алгоритму Нидлмана-Вунша. Сравним аминокислотные и белковые последовательности бета-актина человека и мыши, подгрузив соответствующие файлы и выбрав нужное в 'Enter a pair of'"
      ],
      "metadata": {
        "id": "l1oFnY05R_uO"
      }
    },
    {
      "cell_type": "markdown",
      "source": [
        "Посмотрите, что получилось. Есть какие-то забавные вещи?"
      ],
      "metadata": {
        "id": "slMMh9C2SieF"
      }
    },
    {
      "cell_type": "markdown",
      "source": [
        "*Грузиться может долго, не теряйте веру. А еще проверять работу вашей программы по сайту с выравниванием не стоит - у вас разные веса на мэтчи и мисмэтчи нуклеотидов*"
      ],
      "metadata": {
        "id": "FMf2mRimThK0"
      }
    },
    {
      "cell_type": "markdown",
      "source": [
        "## развлечение на дом(?)"
      ],
      "metadata": {
        "id": "5tB6hfjkSmha"
      }
    },
    {
      "cell_type": "markdown",
      "source": [
        "https://nova-marble-6c0.notion.site/2-dd03977e0d7042f29811cdfa897376c9"
      ],
      "metadata": {
        "id": "usoXW-bwYlun"
      }
    },
    {
      "cell_type": "markdown",
      "source": [
        "Сначала решите, для кого вы будете делать псевдодерево: для вас или для каких-то других абстрактных людей. Лучше вместе это сделайте) Потом накидайте дополнительно вопросов на да/нет, чтобы увеличить точность. Ответьте на вопросы для себя или для вашего персонажа, для каждого ответа \"да\" записывая на бумажку букву А, а для \"нет\" - G. Потом загоните вашу последовательность и последовательность друга в эмбос, изменив настройки на:\n",
        "\n",
        "![picture](https://drive.google.com/uc?export=view&id=1DPbt23bX5mGvX_wiNHkRzUzLjy-LCYYL)\n",
        "\n",
        "\n",
        "Дело в том, что в ответах на вопросы вставок и делеций быть не должно)) Поэтому мы начинаем максимально штрафовать за возможные гэпы - просто чтобы у нас их не было. В результате в скобках должен быть ваш score. \n",
        "\n",
        "Домашнее задание - нарисовать приблизительное дерево по score-ам, которые вы получите, попарно сверив последовательности!\n",
        "\n",
        "EMBOSS порой непростительно долго считает score, поэтому можете пользоваться вашим дописанным алгоритмом. Но помните, что либо EMBOSS, либо алгоритм - они не совсем идентичны! Измените значение гэпа (d) вашего алгоритма на 1000 - опять же, чтобы гэпов не было."
      ],
      "metadata": {
        "id": "LkOCR0VOYnhj"
      }
    }
  ]
}