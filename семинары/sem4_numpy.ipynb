{
  "nbformat": 4,
  "nbformat_minor": 0,
  "metadata": {
    "colab": {
      "name": "bioinf1514_sem4.ipynb",
      "provenance": [],
      "collapsed_sections": []
    },
    "kernelspec": {
      "name": "python3",
      "display_name": "Python 3"
    },
    "language_info": {
      "name": "python"
    }
  },
  "cells": [
    {
      "cell_type": "markdown",
      "source": [
        "# numpy - библиотека для векторизации вычислений\n",
        "\n"
      ],
      "metadata": {
        "id": "KE_n72B4dray"
      }
    },
    {
      "cell_type": "markdown",
      "source": [
        "для того, чтобы работать с библиотекой, нужно ее импортировать. это делается с помощью команды **import**. так вы получаете доступ ко всем командам библиотеки, но обращаться к ним надо по-особенному: сначала прописывается библиотека, а потом, через точку, сама команда. выглядеть это будет как\n",
        "\n",
        "numpy.arange()\n",
        "\n",
        "но бывают библиотеки с длинными названиями, прописывать их целиком перед каждой командой просто лень, поэтому можно непосредственно в строчке импорта библиотеку переназвать - numpy все привыкли называть np\n",
        "\n",
        "\n",
        "![image.png](https://pics.me.me/1-import-numpy-1-import-numpy-as-np-there-is-31232276.png)"
      ],
      "metadata": {
        "id": "H6ShcC73WtlF"
      }
    },
    {
      "cell_type": "code",
      "source": [
        "import numpy as np"
      ],
      "metadata": {
        "id": "4_YbUMpQWs0P"
      },
      "execution_count": 1,
      "outputs": []
    },
    {
      "cell_type": "markdown",
      "source": [
        "на самом деле вместо np можно написать что угодно, просто как-то сложилось, что все пишут np. называйте библиотеки как хотите, главное не путайтесь!\n",
        "\n",
        "![image.png](https://pics.me.me/import-pandas-as-np-import-numpy-as-p-i-dont-22440858.png)"
      ],
      "metadata": {
        "id": "TCub3cY3YKkv"
      }
    },
    {
      "cell_type": "markdown",
      "source": [
        "документация: http://www.numpy.org/"
      ],
      "metadata": {
        "id": "DDRCAqE1WNAA"
      }
    },
    {
      "cell_type": "markdown",
      "source": [
        "## зачем использовать нампай"
      ],
      "metadata": {
        "id": "OCaX2F7-sajS"
      }
    },
    {
      "cell_type": "markdown",
      "source": [
        "нампай нужен для быстрой работы со списками. если раньше для того, чтобы попарно сложить элементы двух списков нам приходилось пользоваться циклом, нампай дает возможность сделать это в одну команду!\n",
        "\n",
        "плюс нампая не сколько быстрая запись, а значительное ускорение процесса вычислений. на прошлом занятии мы смотрели, как важно бывает ускорение программы и как сильно трудятся над этим программисты. попробуем написать одинаковую программу используя списки и используя нампай и посчитаем время:"
      ],
      "metadata": {
        "id": "Nsx6P6ikZiwM"
      }
    },
    {
      "cell_type": "code",
      "execution_count": 4,
      "metadata": {
        "id": "anwqfVs8ZFgA"
      },
      "outputs": [],
      "source": [
        "n = 300\n",
        "A = np.random.rand(n, n)\n",
        "B = np.random.rand(n, n)"
      ]
    },
    {
      "cell_type": "code",
      "source": [
        "%%time\n",
        "C = np.zeros((n, n))\n",
        "for i in range(n):\n",
        "    for j in range(n):\n",
        "        for k in range(n):\n",
        "            C[i, j] += A[i, k] * B[k, j]"
      ],
      "metadata": {
        "colab": {
          "base_uri": "https://localhost:8080/"
        },
        "id": "NVYEzRl8a8FA",
        "outputId": "ff2baa41-ec89-4b02-a0b5-8f2632c49e3c"
      },
      "execution_count": 5,
      "outputs": [
        {
          "output_type": "stream",
          "name": "stdout",
          "text": [
            "CPU times: user 27.7 s, sys: 17.1 ms, total: 27.7 s\n",
            "Wall time: 27.8 s\n"
          ]
        }
      ]
    },
    {
      "cell_type": "code",
      "source": [
        "%%time\n",
        "C = A @ B"
      ],
      "metadata": {
        "colab": {
          "base_uri": "https://localhost:8080/"
        },
        "id": "YtDGJ_e3a8g9",
        "outputId": "45daff48-a23e-4bad-cfdf-a8ba8be2e4d8"
      },
      "execution_count": 6,
      "outputs": [
        {
          "output_type": "stream",
          "name": "stdout",
          "text": [
            "CPU times: user 6.93 ms, sys: 0 ns, total: 6.93 ms\n",
            "Wall time: 9.6 ms\n"
          ]
        }
      ]
    },
    {
      "cell_type": "markdown",
      "source": [
        "### почему такая разница во времени? дело в том, что:"
      ],
      "metadata": {
        "id": "51undeFTbhDj"
      }
    },
    {
      "cell_type": "markdown",
      "source": [
        "1. Питон - язык с динамической типизацией. Это значит, что в течение одной программы в одной и той же переменной могут лежать значения разных типов (строчки, списки, числа). В языках со статической типизацией тип переменной определяется еще до тела самой программы, поэтому если мы где-то в переменную, в которую должны класться числа положим строку, программа выдаст ошибку."
      ],
      "metadata": {
        "id": "NhfAU_QEcoT1"
      }
    },
    {
      "cell_type": "code",
      "source": [
        "a = 1\n",
        "a = 'i'\n",
        "a = [1, 2, 'k']"
      ],
      "metadata": {
        "id": "rU1Ps7qedJzL"
      },
      "execution_count": 7,
      "outputs": []
    },
    {
      "cell_type": "markdown",
      "source": [
        "Из-за этого каждый раз когда мы входим в цикл и хотим провести операцию над переменной-итератором, приходится узнавать тип значения, лежащего в итераторе. Одна такая проверка много времени не занимает, но если таких проверок много, это может сильно сказаться на длительности выполнения программы. В массивы numpy можно положить только переменные одного типа, а циклы, стоящие за командами нампая, написаны на C - языке со статической типизацией. Оттого проверок нету и циклы гонятся быстрее."
      ],
      "metadata": {
        "id": "EAwWOFt5dPjK"
      }
    },
    {
      "cell_type": "markdown",
      "source": [
        "2. Когда мы идем циклом по списку, итерации цикла идут одна за другой. Нампай параллелизует однотипные вычисления: он может выполнять не одно вычисление, а несколько одновременно. Это тоже сильно сказывается на времени!"
      ],
      "metadata": {
        "id": "e5p8FdAUdzTk"
      }
    },
    {
      "cell_type": "markdown",
      "source": [
        "3. Списки в питоне - это ссылки на объекты, которые могут находиться далеко друг от друга в памяти. В C (и, соответственно, в нампае), массивы это не ссылки, а непосредственно сами элементы, которые в памяти упакованы очень плотно. Из-за того, что нам не нужно бегать по ссылкам и активно перемещаться по памяти, все происходит быстрее"
      ],
      "metadata": {
        "id": "pJlgLs0geSjz"
      }
    },
    {
      "cell_type": "markdown",
      "source": [
        "Проблема нампая в том, что он работает только с массивами из чисел. Такие массивы называются векторами (и они поддерживают векторные операции типа вычисления скалярного произведения)"
      ],
      "metadata": {
        "id": "mErdN07-fMgX"
      }
    },
    {
      "cell_type": "markdown",
      "source": [
        "## работа в numpy"
      ],
      "metadata": {
        "id": "HTtuhMvlsfvh"
      }
    },
    {
      "cell_type": "markdown",
      "source": [
        "### создание массива numpy"
      ],
      "metadata": {
        "id": "w3-0bo_Asid0"
      }
    },
    {
      "cell_type": "markdown",
      "source": [
        "Есть несколько способов создать массив numpy. Можно, например, сделать его из заранее созданного списка:"
      ],
      "metadata": {
        "id": "WMMhQSgHfps9"
      }
    },
    {
      "cell_type": "code",
      "source": [
        "arr = [1, 2, 3, 4]\n",
        "numarr = np.array(arr)\n",
        "type(numarr)"
      ],
      "metadata": {
        "colab": {
          "base_uri": "https://localhost:8080/"
        },
        "id": "l8W5BFHCgDz6",
        "outputId": "52ab7a5e-f206-4683-b1b3-8e06d108e394"
      },
      "execution_count": 9,
      "outputs": [
        {
          "output_type": "execute_result",
          "data": {
            "text/plain": [
              "numpy.ndarray"
            ]
          },
          "metadata": {},
          "execution_count": 9
        }
      ]
    },
    {
      "cell_type": "markdown",
      "source": [
        "Но иногда оказывается полезным создание специфических массивов, например массивов из нулей или массивов из единиц. "
      ],
      "metadata": {
        "id": "A_1UO8vTgRqr"
      }
    },
    {
      "cell_type": "code",
      "source": [
        "np.zeros(4)"
      ],
      "metadata": {
        "colab": {
          "base_uri": "https://localhost:8080/"
        },
        "id": "dBQYKpOEgYQF",
        "outputId": "5e1f771b-60ab-486f-d3d5-a1e7ce334486"
      },
      "execution_count": 10,
      "outputs": [
        {
          "output_type": "execute_result",
          "data": {
            "text/plain": [
              "array([0., 0., 0., 0.])"
            ]
          },
          "metadata": {},
          "execution_count": 10
        }
      ]
    },
    {
      "cell_type": "code",
      "source": [
        "np.ones(4)"
      ],
      "metadata": {
        "colab": {
          "base_uri": "https://localhost:8080/"
        },
        "id": "cq3ZtDjpgbjF",
        "outputId": "ee2de28c-e3dc-47d3-fcc9-330313597695"
      },
      "execution_count": 11,
      "outputs": [
        {
          "output_type": "execute_result",
          "data": {
            "text/plain": [
              "array([1., 1., 1., 1.])"
            ]
          },
          "metadata": {},
          "execution_count": 11
        }
      ]
    },
    {
      "cell_type": "code",
      "source": [
        "# а это единичная матрица - то есть матрица, где все нолики, но на главной диагонали единицы\n",
        "np.identity(5)"
      ],
      "metadata": {
        "colab": {
          "base_uri": "https://localhost:8080/"
        },
        "id": "v3HD65wRhkHS",
        "outputId": "617c0300-3cd8-41db-b14c-9feffbfa2fe1"
      },
      "execution_count": 16,
      "outputs": [
        {
          "output_type": "execute_result",
          "data": {
            "text/plain": [
              "array([[1., 0., 0., 0., 0.],\n",
              "       [0., 1., 0., 0., 0.],\n",
              "       [0., 0., 1., 0., 0.],\n",
              "       [0., 0., 0., 1., 0.],\n",
              "       [0., 0., 0., 0., 1.]])"
            ]
          },
          "metadata": {},
          "execution_count": 16
        }
      ]
    },
    {
      "cell_type": "markdown",
      "source": [
        "Или сделать массив из последовательно идущих чисел:"
      ],
      "metadata": {
        "id": "uMyQmmxAk9it"
      }
    },
    {
      "cell_type": "code",
      "source": [
        "np.arange(1, 10, 2) #первый аргумент - начало, второй - конец, третий - шаг. все как в цикле for"
      ],
      "metadata": {
        "colab": {
          "base_uri": "https://localhost:8080/"
        },
        "id": "k-A1RSMLk8Ab",
        "outputId": "7b065f21-3dbb-46f5-9435-17d6226f9846"
      },
      "execution_count": 51,
      "outputs": [
        {
          "output_type": "execute_result",
          "data": {
            "text/plain": [
              "array([1, 3, 5, 7, 9])"
            ]
          },
          "metadata": {},
          "execution_count": 51
        }
      ]
    },
    {
      "cell_type": "code",
      "source": [
        "np.linspace(1, 10, 50) #третий аргумент - сколько у нас должно быть элементов, расположенных на отрезке между первым и вторым аргументом"
      ],
      "metadata": {
        "colab": {
          "base_uri": "https://localhost:8080/"
        },
        "id": "neYxgOaflaFl",
        "outputId": "289385e5-f4e9-431c-c010-54a59c7ee6f2"
      },
      "execution_count": 52,
      "outputs": [
        {
          "output_type": "execute_result",
          "data": {
            "text/plain": [
              "array([ 1.        ,  1.18367347,  1.36734694,  1.55102041,  1.73469388,\n",
              "        1.91836735,  2.10204082,  2.28571429,  2.46938776,  2.65306122,\n",
              "        2.83673469,  3.02040816,  3.20408163,  3.3877551 ,  3.57142857,\n",
              "        3.75510204,  3.93877551,  4.12244898,  4.30612245,  4.48979592,\n",
              "        4.67346939,  4.85714286,  5.04081633,  5.2244898 ,  5.40816327,\n",
              "        5.59183673,  5.7755102 ,  5.95918367,  6.14285714,  6.32653061,\n",
              "        6.51020408,  6.69387755,  6.87755102,  7.06122449,  7.24489796,\n",
              "        7.42857143,  7.6122449 ,  7.79591837,  7.97959184,  8.16326531,\n",
              "        8.34693878,  8.53061224,  8.71428571,  8.89795918,  9.08163265,\n",
              "        9.26530612,  9.44897959,  9.63265306,  9.81632653, 10.        ])"
            ]
          },
          "metadata": {},
          "execution_count": 52
        }
      ]
    },
    {
      "cell_type": "markdown",
      "source": [
        "### многомерные массивы"
      ],
      "metadata": {
        "id": "xZgiwGVzsqw6"
      }
    },
    {
      "cell_type": "markdown",
      "source": [
        "Массивы в нампае не обязаны быть одномерными, можно делать столько измерений, сколько душа пожелает. Нам скорее не придется использовать что-то больше двумерного. Попробуем создать двумерный массив:"
      ],
      "metadata": {
        "id": "0YU8s3H6gdxA"
      }
    },
    {
      "cell_type": "code",
      "source": [
        "np.zeros((4, 3)) #скобочки тут двойные, а не одинарные, потому что аргумент к  zeros можно подать только один - и этот аргумент в нашем случае кортеж"
      ],
      "metadata": {
        "colab": {
          "base_uri": "https://localhost:8080/"
        },
        "id": "RwtPRBeIgoV2",
        "outputId": "d34be21a-6adb-4bef-8473-201ee9fa9943"
      },
      "execution_count": 14,
      "outputs": [
        {
          "output_type": "execute_result",
          "data": {
            "text/plain": [
              "array([[0., 0., 0.],\n",
              "       [0., 0., 0.],\n",
              "       [0., 0., 0.],\n",
              "       [0., 0., 0.]])"
            ]
          },
          "metadata": {},
          "execution_count": 14
        }
      ]
    },
    {
      "cell_type": "markdown",
      "source": [
        "Или перевести одномерный массив в двумерный (а потом снова сделать его одномерным)"
      ],
      "metadata": {
        "id": "skIyp9B_g4nV"
      }
    },
    {
      "cell_type": "code",
      "source": [
        "vec = np.ones(6)\n",
        "vec"
      ],
      "metadata": {
        "colab": {
          "base_uri": "https://localhost:8080/"
        },
        "id": "SRouOAzJh3pv",
        "outputId": "842027e2-b89d-498d-a530-67d3489745e5"
      },
      "execution_count": 18,
      "outputs": [
        {
          "output_type": "execute_result",
          "data": {
            "text/plain": [
              "array([1., 1., 1., 1., 1., 1.])"
            ]
          },
          "metadata": {},
          "execution_count": 18
        }
      ]
    },
    {
      "cell_type": "code",
      "source": [
        "vec = vec.reshape(2, 3)\n",
        "vec"
      ],
      "metadata": {
        "colab": {
          "base_uri": "https://localhost:8080/"
        },
        "id": "2zEyf7hdhJvY",
        "outputId": "b36d7079-1323-49f6-cae0-858217dfcf66"
      },
      "execution_count": 21,
      "outputs": [
        {
          "output_type": "execute_result",
          "data": {
            "text/plain": [
              "array([[1., 1., 1.],\n",
              "       [1., 1., 1.]])"
            ]
          },
          "metadata": {},
          "execution_count": 21
        }
      ]
    },
    {
      "cell_type": "code",
      "source": [
        "vec.reshape(1, 6)\n",
        "\n",
        "# или\n",
        "#vec.flatten()"
      ],
      "metadata": {
        "colab": {
          "base_uri": "https://localhost:8080/"
        },
        "id": "VEtPTbGFh-P_",
        "outputId": "fceeec16-6970-481d-cf6a-949e53c1ea30"
      },
      "execution_count": 28,
      "outputs": [
        {
          "output_type": "execute_result",
          "data": {
            "text/plain": [
              "array([[1., 1., 1., 1., 1., 1.]])"
            ]
          },
          "metadata": {},
          "execution_count": 28
        }
      ]
    },
    {
      "cell_type": "markdown",
      "source": [
        "Когда мы переводили наш двумерный массив в одномерный, нам было важно знать число элементов массива. Иногда мы заранее не знаем их, поэтому для поиска есть специальная команда **shape**. Она выдает кортеж, в котором на первом месте показано количество строк, а на втором количество столбцов"
      ],
      "metadata": {
        "id": "0TnDXo6jinpI"
      }
    },
    {
      "cell_type": "code",
      "source": [
        "vec.shape"
      ],
      "metadata": {
        "colab": {
          "base_uri": "https://localhost:8080/"
        },
        "id": "ZAy0iXSOihLJ",
        "outputId": "1ce725dd-e19c-4dce-c009-3a4387d2ea7a"
      },
      "execution_count": 30,
      "outputs": [
        {
          "output_type": "execute_result",
          "data": {
            "text/plain": [
              "(2, 3)"
            ]
          },
          "metadata": {},
          "execution_count": 30
        }
      ]
    },
    {
      "cell_type": "markdown",
      "source": [
        "**ndim** - команда для того, чтобы узнать сколько измерений есть в массиве"
      ],
      "metadata": {
        "id": "gj0fSZD-jM2E"
      }
    },
    {
      "cell_type": "code",
      "source": [
        "vec.ndim"
      ],
      "metadata": {
        "colab": {
          "base_uri": "https://localhost:8080/"
        },
        "id": "muAsJXqTi9nv",
        "outputId": "84ab3436-72dc-463d-ba39-ea0a0266f7a4"
      },
      "execution_count": 31,
      "outputs": [
        {
          "output_type": "execute_result",
          "data": {
            "text/plain": [
              "2"
            ]
          },
          "metadata": {},
          "execution_count": 31
        }
      ]
    },
    {
      "cell_type": "markdown",
      "source": [
        "### операции с векторами"
      ],
      "metadata": {
        "id": "i8tvghNSsuT8"
      }
    },
    {
      "cell_type": "markdown",
      "source": [
        "Естественно, с векторами можно проводить различные операции. Можно проводить их над всем вектором целиком, а можно выполнять их вдоль определенной оси, скажем, суммировать только строки или только столбцы"
      ],
      "metadata": {
        "id": "8WlR2cXijauY"
      }
    },
    {
      "cell_type": "code",
      "source": [
        "vec"
      ],
      "metadata": {
        "colab": {
          "base_uri": "https://localhost:8080/"
        },
        "id": "FQDcuQD2jnRn",
        "outputId": "95151563-bea4-4abe-b0a6-45d2264d85c4"
      },
      "execution_count": 33,
      "outputs": [
        {
          "output_type": "execute_result",
          "data": {
            "text/plain": [
              "array([[1., 1., 1.],\n",
              "       [1., 1., 1.]])"
            ]
          },
          "metadata": {},
          "execution_count": 33
        }
      ]
    },
    {
      "cell_type": "code",
      "source": [
        "np.sum(vec)"
      ],
      "metadata": {
        "colab": {
          "base_uri": "https://localhost:8080/"
        },
        "id": "aoTk3IGZi1VQ",
        "outputId": "d7bb398d-10a5-419e-cb1e-36142f9a7000"
      },
      "execution_count": 32,
      "outputs": [
        {
          "output_type": "execute_result",
          "data": {
            "text/plain": [
              "6.0"
            ]
          },
          "metadata": {},
          "execution_count": 32
        }
      ]
    },
    {
      "cell_type": "code",
      "source": [
        "np.sum(vec, axis=0) #суммируем по столбцам, результат - не три столбца, а одномерный массив!"
      ],
      "metadata": {
        "colab": {
          "base_uri": "https://localhost:8080/"
        },
        "id": "RJpPZryGi1I1",
        "outputId": "536b8b88-5fe4-4be1-a912-58dd581f7bfb"
      },
      "execution_count": 36,
      "outputs": [
        {
          "output_type": "execute_result",
          "data": {
            "text/plain": [
              "array([2., 2., 2.])"
            ]
          },
          "metadata": {},
          "execution_count": 36
        }
      ]
    },
    {
      "cell_type": "code",
      "source": [
        "np.sum(vec, axis=1)"
      ],
      "metadata": {
        "colab": {
          "base_uri": "https://localhost:8080/"
        },
        "id": "ILyjVzaVjwcO",
        "outputId": "41c30643-27df-4b8d-f151-2afcc13f4b88"
      },
      "execution_count": 37,
      "outputs": [
        {
          "output_type": "execute_result",
          "data": {
            "text/plain": [
              "array([3., 3.])"
            ]
          },
          "metadata": {},
          "execution_count": 37
        }
      ]
    },
    {
      "cell_type": "code",
      "source": [
        "vec.sum() #так типа тоже можно"
      ],
      "metadata": {
        "colab": {
          "base_uri": "https://localhost:8080/"
        },
        "id": "VuqXmoPaj0wc",
        "outputId": "c8402d7f-d2af-43c9-8684-5371579b69b2"
      },
      "execution_count": 39,
      "outputs": [
        {
          "output_type": "execute_result",
          "data": {
            "text/plain": [
              "6.0"
            ]
          },
          "metadata": {},
          "execution_count": 39
        }
      ]
    },
    {
      "cell_type": "markdown",
      "source": [
        "Вообще зачастую специальные функции типа суммирования нам не нужны, нужно просто числа складывать и вычитать. Это тоже поддерживается в простой форме:"
      ],
      "metadata": {
        "id": "MCZtW-A1j89z"
      }
    },
    {
      "cell_type": "code",
      "source": [
        "vec + 1"
      ],
      "metadata": {
        "colab": {
          "base_uri": "https://localhost:8080/"
        },
        "id": "pWWstjpRkJZp",
        "outputId": "bfc8710d-aa8f-4dc9-ebc7-fe1b94450a68"
      },
      "execution_count": 41,
      "outputs": [
        {
          "output_type": "execute_result",
          "data": {
            "text/plain": [
              "array([[2., 2., 2.],\n",
              "       [2., 2., 2.]])"
            ]
          },
          "metadata": {},
          "execution_count": 41
        }
      ]
    },
    {
      "cell_type": "code",
      "source": [
        "vec * 5"
      ],
      "metadata": {
        "colab": {
          "base_uri": "https://localhost:8080/"
        },
        "id": "QtxpnrRlkLMK",
        "outputId": "2a73d404-b2dc-4acc-f4a9-25c597886176"
      },
      "execution_count": 44,
      "outputs": [
        {
          "output_type": "execute_result",
          "data": {
            "text/plain": [
              "array([[5., 5., 5.],\n",
              "       [5., 5., 5.]])"
            ]
          },
          "metadata": {},
          "execution_count": 44
        }
      ]
    },
    {
      "cell_type": "code",
      "source": [
        "vec ** 2 #возведение в квадрат"
      ],
      "metadata": {
        "colab": {
          "base_uri": "https://localhost:8080/"
        },
        "id": "tn-bFdLSkMKz",
        "outputId": "39086b56-2ea6-41a5-bac0-0d255dd52e43"
      },
      "execution_count": 43,
      "outputs": [
        {
          "output_type": "execute_result",
          "data": {
            "text/plain": [
              "array([[1., 1., 1.],\n",
              "       [1., 1., 1.]])"
            ]
          },
          "metadata": {},
          "execution_count": 43
        }
      ]
    },
    {
      "cell_type": "code",
      "source": [
        "vec + vec ** 2"
      ],
      "metadata": {
        "id": "RdwxtZVFkLhx"
      },
      "execution_count": null,
      "outputs": []
    },
    {
      "cell_type": "code",
      "source": [
        "'''\n",
        "cинус - его в стандартном питоне нет, поэтому приходится использовать команду нампая. \n",
        "для того, чтобы синус числа взять приходится библиотеку math импортировать\n",
        "'''\n",
        "np.sin(vec)"
      ],
      "metadata": {
        "id": "8tuJSjB3kVfr"
      },
      "execution_count": null,
      "outputs": []
    },
    {
      "cell_type": "code",
      "source": [
        "vec + vec"
      ],
      "metadata": {
        "colab": {
          "base_uri": "https://localhost:8080/"
        },
        "id": "ar9Bh7KLkycK",
        "outputId": "685fe29d-bffb-4b00-eedd-4a76f9b2847f"
      },
      "execution_count": 40,
      "outputs": [
        {
          "output_type": "execute_result",
          "data": {
            "text/plain": [
              "array([[2., 2., 2.],\n",
              "       [2., 2., 2.]])"
            ]
          },
          "metadata": {},
          "execution_count": 40
        }
      ]
    },
    {
      "cell_type": "markdown",
      "source": [
        "### срезы и индексирование"
      ],
      "metadata": {
        "id": "YRG0CiUHsynE"
      }
    },
    {
      "cell_type": "markdown",
      "source": [
        "Как и со списков, с массивов нампая можно брать срезы и элементы по индексу!"
      ],
      "metadata": {
        "id": "foJIFxS-oetv"
      }
    },
    {
      "cell_type": "code",
      "source": [
        "vec = np.arange(1, 13).reshape((3, 4))\n",
        "vec"
      ],
      "metadata": {
        "colab": {
          "base_uri": "https://localhost:8080/"
        },
        "id": "QfusqmkNolft",
        "outputId": "0bb97cfc-b0d6-4fb7-bdb5-b4088a52bed3"
      },
      "execution_count": 63,
      "outputs": [
        {
          "output_type": "execute_result",
          "data": {
            "text/plain": [
              "array([[ 1,  2,  3,  4],\n",
              "       [ 5,  6,  7,  8],\n",
              "       [ 9, 10, 11, 12]])"
            ]
          },
          "metadata": {},
          "execution_count": 63
        }
      ]
    },
    {
      "cell_type": "code",
      "source": [
        "vec[:, 1] #берем второй столбец"
      ],
      "metadata": {
        "colab": {
          "base_uri": "https://localhost:8080/"
        },
        "id": "b4QxUE-soeIY",
        "outputId": "84000e99-2b18-4e5c-938d-b138d76459d5"
      },
      "execution_count": 64,
      "outputs": [
        {
          "output_type": "execute_result",
          "data": {
            "text/plain": [
              "array([ 2,  6, 10])"
            ]
          },
          "metadata": {},
          "execution_count": 64
        }
      ]
    },
    {
      "cell_type": "code",
      "source": [
        "vec[1, :] #берем вторую строку"
      ],
      "metadata": {
        "colab": {
          "base_uri": "https://localhost:8080/"
        },
        "id": "6SgnWNINopUA",
        "outputId": "26461434-ae48-4e11-9437-050ebc9371a6"
      },
      "execution_count": 65,
      "outputs": [
        {
          "output_type": "execute_result",
          "data": {
            "text/plain": [
              "array([5, 6, 7, 8])"
            ]
          },
          "metadata": {},
          "execution_count": 65
        }
      ]
    },
    {
      "cell_type": "code",
      "source": [
        "vec[0:2, 2] #отбираем с 0 по 3(не включительно) строчки, выбираем там 3 элемент"
      ],
      "metadata": {
        "colab": {
          "base_uri": "https://localhost:8080/"
        },
        "id": "E1udVwX2owlE",
        "outputId": "4f527e54-9b6b-4eac-ab84-1cd85a9af535"
      },
      "execution_count": 76,
      "outputs": [
        {
          "output_type": "execute_result",
          "data": {
            "text/plain": [
              "array([3, 7])"
            ]
          },
          "metadata": {},
          "execution_count": 76
        }
      ]
    },
    {
      "cell_type": "code",
      "source": [
        "vec[:, ::2] #выбираем все строчки, в этих строчках берем только нечетные столбцы"
      ],
      "metadata": {
        "colab": {
          "base_uri": "https://localhost:8080/"
        },
        "id": "08NMT3ktoxW0",
        "outputId": "5f39d55d-60ce-4463-fdc5-50d099885c77"
      },
      "execution_count": 78,
      "outputs": [
        {
          "output_type": "execute_result",
          "data": {
            "text/plain": [
              "array([[ 1,  3],\n",
              "       [ 5,  7],\n",
              "       [ 9, 11]])"
            ]
          },
          "metadata": {},
          "execution_count": 78
        }
      ]
    },
    {
      "cell_type": "code",
      "source": [
        "vec[vec % 2 == 0] #оставляем только четные элементы массива"
      ],
      "metadata": {
        "colab": {
          "base_uri": "https://localhost:8080/"
        },
        "id": "A7sKhm7lo0fy",
        "outputId": "24b7d6f3-46cc-4975-a20d-8f7aeedfd18e"
      },
      "execution_count": 79,
      "outputs": [
        {
          "output_type": "execute_result",
          "data": {
            "text/plain": [
              "array([ 2,  4,  6,  8, 10, 12])"
            ]
          },
          "metadata": {},
          "execution_count": 79
        }
      ]
    },
    {
      "cell_type": "markdown",
      "source": [
        "#### условия с масками :):"
      ],
      "metadata": {
        "id": "NVc4nv3Hs2c2"
      }
    },
    {
      "cell_type": "markdown",
      "source": [
        "Про последний пример стоит сказать подробнее, он важный! Штука, которой мы срез брали называется маска. Давайте разберемся, как она работает.\n",
        "\n",
        "Если мы напишем условие, которое в нормальном случае написали бы в if просто как отдельно стоящий кусок программы, мы получим булево число - True или False."
      ],
      "metadata": {
        "id": "jcz-FvVGp2kb"
      }
    },
    {
      "cell_type": "code",
      "source": [
        "5 == 0"
      ],
      "metadata": {
        "colab": {
          "base_uri": "https://localhost:8080/"
        },
        "id": "jCyydKZDqUHH",
        "outputId": "6329ee5b-a342-4ae1-8537-4654de655d13"
      },
      "execution_count": 81,
      "outputs": [
        {
          "output_type": "execute_result",
          "data": {
            "text/plain": [
              "False"
            ]
          },
          "metadata": {},
          "execution_count": 81
        }
      ]
    },
    {
      "cell_type": "code",
      "source": [
        "5!= 0"
      ],
      "metadata": {
        "colab": {
          "base_uri": "https://localhost:8080/"
        },
        "id": "1_tYsGIgqV3g",
        "outputId": "d18186a0-62c6-4d94-e37c-80ca50667b67"
      },
      "execution_count": 82,
      "outputs": [
        {
          "output_type": "execute_result",
          "data": {
            "text/plain": [
              "True"
            ]
          },
          "metadata": {},
          "execution_count": 82
        }
      ]
    },
    {
      "cell_type": "markdown",
      "source": [
        "Это значение можно занести в отдельную переменную и подставить ее в if)"
      ],
      "metadata": {
        "id": "9_PoLD3_qY8h"
      }
    },
    {
      "cell_type": "code",
      "source": [
        "a = (5>0)\n",
        "print(a)\n",
        "if a:\n",
        "  print('ежи дурак')"
      ],
      "metadata": {
        "colab": {
          "base_uri": "https://localhost:8080/"
        },
        "id": "rv3z4qANqYao",
        "outputId": "ae826398-4c66-43d9-e97c-26c5dd3e666e"
      },
      "execution_count": 85,
      "outputs": [
        {
          "output_type": "stream",
          "name": "stdout",
          "text": [
            "True\n",
            "ежи дурак\n"
          ]
        }
      ]
    },
    {
      "cell_type": "markdown",
      "source": [
        "Если же у нас в переменной лежит много чисел (читать как: массив), то условие будет проверяться для всех элементов массива. И результат проверки будет лежать в массиве того же размера, только там не наши числа будут, а True и False"
      ],
      "metadata": {
        "id": "RgLdAxT3qq7t"
      }
    },
    {
      "cell_type": "code",
      "source": [
        "vec % 2 == 0"
      ],
      "metadata": {
        "colab": {
          "base_uri": "https://localhost:8080/"
        },
        "id": "Gzqm1xfNp9FY",
        "outputId": "4e43b8ed-7c02-4fd7-f0ed-75de1d05b3ee"
      },
      "execution_count": 86,
      "outputs": [
        {
          "output_type": "execute_result",
          "data": {
            "text/plain": [
              "array([[False,  True, False,  True],\n",
              "       [False,  True, False,  True],\n",
              "       [False,  True, False,  True]])"
            ]
          },
          "metadata": {},
          "execution_count": 86
        }
      ]
    },
    {
      "cell_type": "markdown",
      "source": [
        "Таким массивом из True и False можно брать срезы: если элементу массива соответствует True в таблице результата проверки, то элемент остается, если False, то игнорируеся"
      ],
      "metadata": {
        "id": "SRDeZv_prFKY"
      }
    },
    {
      "cell_type": "code",
      "source": [
        "vec[vec % 2 == 0]"
      ],
      "metadata": {
        "colab": {
          "base_uri": "https://localhost:8080/"
        },
        "id": "4_CO8ZzYrXAh",
        "outputId": "9b216214-f56e-456c-ab2b-83d1777a1d42"
      },
      "execution_count": 87,
      "outputs": [
        {
          "output_type": "execute_result",
          "data": {
            "text/plain": [
              "array([ 2,  4,  6,  8, 10, 12])"
            ]
          },
          "metadata": {},
          "execution_count": 87
        }
      ]
    },
    {
      "cell_type": "markdown",
      "source": [
        "По маске можно не только срезы брать, но и менять значения массива! Так, например:"
      ],
      "metadata": {
        "id": "Q9lW8kK3xYAQ"
      }
    },
    {
      "cell_type": "code",
      "source": [
        "vec[vec % 2 == 0] *=2"
      ],
      "metadata": {
        "id": "e4HvSOJcxdTA"
      },
      "execution_count": 106,
      "outputs": []
    },
    {
      "cell_type": "code",
      "source": [
        "vec"
      ],
      "metadata": {
        "colab": {
          "base_uri": "https://localhost:8080/"
        },
        "id": "erramrb0xf_H",
        "outputId": "c4f5a6e7-770b-4de0-e9ac-21175805802f"
      },
      "execution_count": 107,
      "outputs": [
        {
          "output_type": "execute_result",
          "data": {
            "text/plain": [
              "array([[ 1,  4,  3,  8],\n",
              "       [ 5, 12,  7, 16],\n",
              "       [ 9, 20, 11, 24]])"
            ]
          },
          "metadata": {},
          "execution_count": 107
        }
      ]
    },
    {
      "cell_type": "markdown",
      "source": [
        "В полученном массиве все четные числа умножены на два"
      ],
      "metadata": {
        "id": "9kAnEdW3xk4g"
      }
    },
    {
      "cell_type": "markdown",
      "source": [
        "### штуки прикольные"
      ],
      "metadata": {
        "id": "3f42Y6gQs6se"
      }
    },
    {
      "cell_type": "markdown",
      "source": [
        "Вообще в нампае много приколов, оценить их в полной мере можно только хорошо зная линейную алгебру) Некоторые из них нам понадобятся, подходящие всегда можно найти в [документации](http://www.numpy.org/). Не бойтесь гуглить, работая с numpy, наверняка ваши задачи уже были решены за вас на stackoverflow!\n",
        "\n",
        "Но вот некоторые, которые могут пригодиться в вашей работе:\n"
      ],
      "metadata": {
        "id": "5ZySFZZMru0J"
      }
    },
    {
      "cell_type": "code",
      "source": [
        "vec"
      ],
      "metadata": {
        "colab": {
          "base_uri": "https://localhost:8080/"
        },
        "id": "ZmcPDlWstr7D",
        "outputId": "57a8c381-f63b-4000-c9ab-0cd9b7fe4741"
      },
      "execution_count": 89,
      "outputs": [
        {
          "output_type": "execute_result",
          "data": {
            "text/plain": [
              "array([[ 1,  2,  3,  4],\n",
              "       [ 5,  6,  7,  8],\n",
              "       [ 9, 10, 11, 12]])"
            ]
          },
          "metadata": {},
          "execution_count": 89
        }
      ]
    },
    {
      "cell_type": "code",
      "source": [
        "vec.transpose() #транспонирование массива"
      ],
      "metadata": {
        "colab": {
          "base_uri": "https://localhost:8080/"
        },
        "id": "tWH72Yg9tnxr",
        "outputId": "bba4de12-d134-4fee-eea6-9138d16a50f3"
      },
      "execution_count": 90,
      "outputs": [
        {
          "output_type": "execute_result",
          "data": {
            "text/plain": [
              "array([[ 1,  5,  9],\n",
              "       [ 2,  6, 10],\n",
              "       [ 3,  7, 11],\n",
              "       [ 4,  8, 12]])"
            ]
          },
          "metadata": {},
          "execution_count": 90
        }
      ]
    },
    {
      "cell_type": "code",
      "source": [
        "vec.T #то же самое ток короче) многие команды дублируются в нампае, привыкайте"
      ],
      "metadata": {
        "colab": {
          "base_uri": "https://localhost:8080/"
        },
        "id": "bbICTG-Stw0q",
        "outputId": "46b17ec6-34ff-49ad-fd5c-99389640119a"
      },
      "execution_count": 91,
      "outputs": [
        {
          "output_type": "execute_result",
          "data": {
            "text/plain": [
              "array([[ 1,  5,  9],\n",
              "       [ 2,  6, 10],\n",
              "       [ 3,  7, 11],\n",
              "       [ 4,  8, 12]])"
            ]
          },
          "metadata": {},
          "execution_count": 91
        }
      ]
    },
    {
      "cell_type": "code",
      "source": [
        "np.hstack((vec, np.zeros(vec.shape))) #объединение двух массивов по горизонтали. опять же, аргумент должен быть один, поэтому на вход кортеж"
      ],
      "metadata": {
        "colab": {
          "base_uri": "https://localhost:8080/"
        },
        "id": "JIat1FZqt2tT",
        "outputId": "7e1c9797-8e24-47a9-f019-81abf5063fff"
      },
      "execution_count": 92,
      "outputs": [
        {
          "output_type": "execute_result",
          "data": {
            "text/plain": [
              "array([[ 1.,  2.,  3.,  4.,  0.,  0.,  0.,  0.],\n",
              "       [ 5.,  6.,  7.,  8.,  0.,  0.,  0.,  0.],\n",
              "       [ 9., 10., 11., 12.,  0.,  0.,  0.,  0.]])"
            ]
          },
          "metadata": {},
          "execution_count": 92
        }
      ]
    },
    {
      "cell_type": "code",
      "source": [
        "np.vstack((vec, np.zeros(vec.shape))) #объединение по вертикали"
      ],
      "metadata": {
        "colab": {
          "base_uri": "https://localhost:8080/"
        },
        "id": "1iQgHENGuAVn",
        "outputId": "f26ffa94-ddc9-438d-b106-e0dda5e081d9"
      },
      "execution_count": 93,
      "outputs": [
        {
          "output_type": "execute_result",
          "data": {
            "text/plain": [
              "array([[ 1.,  2.,  3.,  4.],\n",
              "       [ 5.,  6.,  7.,  8.],\n",
              "       [ 9., 10., 11., 12.],\n",
              "       [ 0.,  0.,  0.,  0.],\n",
              "       [ 0.,  0.,  0.,  0.],\n",
              "       [ 0.,  0.,  0.,  0.]])"
            ]
          },
          "metadata": {},
          "execution_count": 93
        }
      ]
    },
    {
      "cell_type": "code",
      "source": [
        "np.random.rand(2, 3) #генерация рандомных чисел! попробуйте перезапустить ячейку"
      ],
      "metadata": {
        "colab": {
          "base_uri": "https://localhost:8080/"
        },
        "id": "m_ki001xuEP7",
        "outputId": "de822a09-c572-43e1-e32b-d83353c5ab0b"
      },
      "execution_count": 99,
      "outputs": [
        {
          "output_type": "execute_result",
          "data": {
            "text/plain": [
              "array([[0.51736902, 0.59173022, 0.46016881],\n",
              "       [0.69640073, 0.60829555, 0.0254781 ]])"
            ]
          },
          "metadata": {},
          "execution_count": 99
        }
      ]
    },
    {
      "cell_type": "code",
      "source": [
        "np.random.randint(5, 10, size=3) #а тут рандомные целые числа, 3 штуки на отрезке от 5 до 10"
      ],
      "metadata": {
        "colab": {
          "base_uri": "https://localhost:8080/"
        },
        "id": "4HF3WTPquNn9",
        "outputId": "5d1098f6-4ab2-4007-a92e-74d90ba7e856"
      },
      "execution_count": 100,
      "outputs": [
        {
          "output_type": "execute_result",
          "data": {
            "text/plain": [
              "array([7, 5, 9])"
            ]
          },
          "metadata": {},
          "execution_count": 100
        }
      ]
    },
    {
      "cell_type": "markdown",
      "source": [
        "# задания для самостоятельной работы"
      ],
      "metadata": {
        "id": "rlYJUsGFucaG"
      }
    },
    {
      "cell_type": "markdown",
      "source": [
        "1. Развернуть одномерный массив (сделать так, чтобы его элементы шли в обратном порядке).\n"
      ],
      "metadata": {
        "id": "9U46t4ITuovI"
      }
    },
    {
      "cell_type": "code",
      "source": [
        "arr = np.random.randint(1, 100, size=10)\n",
        "print(arr)"
      ],
      "metadata": {
        "colab": {
          "base_uri": "https://localhost:8080/"
        },
        "id": "cz3IgjNhWq2P",
        "outputId": "2e28ce85-df69-4419-bab8-9ceab50ad543"
      },
      "execution_count": 105,
      "outputs": [
        {
          "output_type": "stream",
          "name": "stdout",
          "text": [
            "[ 6 21 66 15 22 91 34  2 15 31]\n"
          ]
        }
      ]
    },
    {
      "cell_type": "code",
      "source": [
        "# ваш код"
      ],
      "metadata": {
        "id": "IfLjzMerwC8a"
      },
      "execution_count": null,
      "outputs": []
    },
    {
      "cell_type": "markdown",
      "source": [
        "2. Найти максимальный нечетный элемент в массиве."
      ],
      "metadata": {
        "id": "SPOZjQgTuqyP"
      }
    },
    {
      "cell_type": "code",
      "source": [
        "arr = np.random.randint(1, 100, size=10)\n",
        "print(arr)"
      ],
      "metadata": {
        "id": "T2hZ8tP3utD5"
      },
      "execution_count": 104,
      "outputs": []
    },
    {
      "cell_type": "code",
      "source": [
        "# ваш код"
      ],
      "metadata": {
        "id": "4P8EgNqrwEzF"
      },
      "execution_count": null,
      "outputs": []
    },
    {
      "cell_type": "markdown",
      "source": [
        "3. Замените все нечетные элементы массива на ваше любимое число."
      ],
      "metadata": {
        "id": "iLGWU9HvuuAQ"
      }
    },
    {
      "cell_type": "code",
      "source": [
        "arr = np.random.randint(1, 100, size=10)\n",
        "print(arr)"
      ],
      "metadata": {
        "id": "eDSH4llruv7q"
      },
      "execution_count": 103,
      "outputs": []
    },
    {
      "cell_type": "code",
      "source": [
        "# ваш код"
      ],
      "metadata": {
        "id": "c2UAFNkRwFbU"
      },
      "execution_count": null,
      "outputs": []
    },
    {
      "cell_type": "markdown",
      "source": [
        "4. Создайте массив первых n нечетных чисел, записанных в порядке убывания. Например, если n=5, то ответом будет array([9, 7, 5, 3, 1]). Функции, которые могут пригодиться при решении: .arange()\n"
      ],
      "metadata": {
        "id": "Kmk0gCxHuxUe"
      }
    },
    {
      "cell_type": "code",
      "source": [
        "n = int(input())"
      ],
      "metadata": {
        "id": "SRjgrQ14xOOQ"
      },
      "execution_count": null,
      "outputs": []
    },
    {
      "cell_type": "code",
      "source": [
        "# ваш код"
      ],
      "metadata": {
        "id": "P2IeyfINuweE"
      },
      "execution_count": null,
      "outputs": []
    },
    {
      "cell_type": "markdown",
      "source": [
        "5. Вычислите самое близкое и самое дальнее числа к данному в рассматриваемом массиве чисел. Например, если на вход поступают массив array([0, 1, 2, 3, 4]) и число 1.33, то ответом будет (1, 4). Функции, которые могут пригодиться при решении: .abs(), .argmax(), .argmin()\n"
      ],
      "metadata": {
        "id": "F-wiZ1a5u3AK"
      }
    },
    {
      "cell_type": "code",
      "source": [
        "# ваш код"
      ],
      "metadata": {
        "id": "0UVQeq6_u3la"
      },
      "execution_count": null,
      "outputs": []
    }
  ]
}