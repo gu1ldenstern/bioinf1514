{
  "nbformat": 4,
  "nbformat_minor": 0,
  "metadata": {
    "colab": {
      "name": "bioinf1514_sem3.ipynb",
      "provenance": [],
      "collapsed_sections": []
    },
    "kernelspec": {
      "name": "python3",
      "display_name": "Python 3"
    },
    "language_info": {
      "name": "python"
    }
  },
  "cells": [
    {
      "cell_type": "markdown",
      "source": [
        "# задача 1: dot plots\n",
        "\n",
        "для того, чтобы определить, есть ли среди двух последовательностей похожие куски, не нужно применять сложные алгоритмы выравниваний. для этого используется dot plot - на нем по осям отложены буквы последовательностей, а на самом графике отображены все совпадения этих букв. диагональные \"линии\" на этих графиках показывают куски мономеров, которые совпали в двух последовательностях. соответственно, если линий нет, последовательности совсем друг на друга не похожи. сперва напишем программу, которая сможет построить такой график и проверим ее на двух коротких 20нуклеотидных последовательностях\n",
        "\n",
        "![picture](https://drive.google.com/uc?export=view&id=1VCf2FNYJiQtEpHNzDWS1BzsBEhLUCKbK)"
      ],
      "metadata": {
        "id": "0DJhHHJJ_mkY"
      }
    },
    {
      "cell_type": "code",
      "source": [
        "# хороший тон - импортировать все необходимые для работы библиотеки в одной клетке до основной программы\n",
        "\n",
        "import random #библиотека для работы со случайными числами\n",
        "import matplotlib.pyplot as plt #библиотека для построения графиков\n",
        "import numpy as np # а это библиотека для быстрой и эффективной работы с векторами"
      ],
      "metadata": {
        "id": "Jy9oLTddB6RG"
      },
      "execution_count": null,
      "outputs": []
    },
    {
      "cell_type": "markdown",
      "source": [
        "сперва сгенерируем две случайные строчки из нуклеотидов. \n",
        "* **random.choice** выбирает из строчки нуклеотидов случайную букву\n",
        "* _ - способ пропустить инициализацию итератора, если он нам не нужен)\n",
        "* ''.join(list) - объединяет список в строку. '' - разделитель между значениями списка. туда можно вписать любую букву, цифру или слово, но у нас между нуклеотидами ничего не должно стоять - поэтому в кавычках ничего нет"
      ],
      "metadata": {
        "id": "46nOV8HJCNUY"
      }
    },
    {
      "cell_type": "code",
      "source": [
        "alphabet = 'ACTG'\n",
        "fasta1 = ''.join(random.choice(alphabet) for _ in range(20))\n",
        "fasta2 = ''.join(random.choice(alphabet) for _ in range(20))\n",
        "\n",
        "print(fasta1, fasta2, sep = '\\n')"
      ],
      "metadata": {
        "id": "3kVBUD0HviCB"
      },
      "execution_count": null,
      "outputs": []
    },
    {
      "cell_type": "markdown",
      "source": [
        "сперва не будем график рисовать) лучше представим наш dot plot в виде таблицы, где строки отвечают за одну последовательность, а столбцы за другую. если в таблице стоит нолик, то соответствующие буквы не совпадают, а если единица - совпадают. \n",
        "создать такую таблицу несложно: для этого потребуется цикл по одной строке, внутри которой лежит цикл по другой строке. в зависимости от совпадения переменных-итераторов прибавим 0 или 1 в результирующий список. такой список на выходе из внутреннего цикла будет записываться в список списков.\n",
        "\n",
        "![picture](https://drive.google.com/uc?export=view&id=1z2pTRFNjF-R1sjfvD-x0MEz9iFpR_4Wz)\n",
        "\n",
        "но, на самом деле, вся таблица нам не нужна - нам нужно запомнить только индексы единиц - их мы потом сможем использовать как координаты графика!\n",
        "поэтому ваша задача в этом задании - поочередно пройтись по всем единицам из такой таблицы (для этого всю таблицу записывать не надо!) и записать одну координату (столбец или строчка) единицы в список x, а другую в список y"
      ],
      "metadata": {
        "id": "Wsf9F3T1ryX6"
      }
    },
    {
      "cell_type": "code",
      "source": [
        "x = []\n",
        "y = []"
      ],
      "metadata": {
        "id": "eQjb_37P1A71"
      },
      "execution_count": null,
      "outputs": []
    },
    {
      "cell_type": "code",
      "source": [
        "'''\n",
        "ваш код, который выглядит примерно так:\n",
        "цикл по fasta1\n",
        "  цикл по fasta2\n",
        "    если элементы совпали, дописываем в x координату по столбцу, а в y по строке\n",
        "'''\n"
      ],
      "metadata": {
        "id": "UiUdHSOjvOhp"
      },
      "execution_count": null,
      "outputs": []
    },
    {
      "cell_type": "markdown",
      "source": [
        "этот код нарисует вам графики, по которым вы можете проверить правильность своего решения! смотрите на совпадения букв - на перекресте должна быть точка. если ваши рандомные последовательности оказались похожими (= в них есть одинаковые фрагменты), вы увидите точки, идущие подряд по диагонали. сейчас они не очень похожи на линии, но это вопрос длины последовательности!"
      ],
      "metadata": {
        "id": "UrSumq1ZwDMF"
      }
    },
    {
      "cell_type": "code",
      "source": [
        "y_coords = np.arange(0, len(fasta1), 1)\n",
        "x_coords = np.arange(0, len(fasta2), 1)\n",
        "y_names = list(fasta2)\n",
        "x_names = list(fasta1)\n",
        "\n",
        "plt.scatter(x, y)\n",
        "\n",
        "plt.gca().set_xticks(x_coords)\n",
        "plt.gca().set_xticklabels(x_names)\n",
        "plt.gca().set_yticks(y_coords)\n",
        "plt.gca().set_yticklabels(y_names)\n",
        "plt.title('Dot plot')\n",
        "pass"
      ],
      "metadata": {
        "id": "eVvCrAWIsHNR"
      },
      "execution_count": null,
      "outputs": []
    },
    {
      "cell_type": "markdown",
      "source": [
        "# задача 2: умный dot plot\n",
        "\n",
        "хотелось бы протестировать написанный код на чем-то пообъемнее и поосмысленнее, чем 20 случайных символов. для этого вспомним что мы делали на первой лекции!\n",
        "перейдите по [ссылке](https://www.ncbi.nlm.nih.gov/gene/?term=E+small+envelope+protein+sars) и скачайте файлы dna fasta для первых трех результатов. попарно сравните и постройте dot plot с помощью кода ниже. как вы поняли, какие последовательности больше похожи?"
      ],
      "metadata": {
        "id": "8o2KaAujxSSo"
      }
    },
    {
      "cell_type": "markdown",
      "source": [
        "**Ваш ответ:**"
      ],
      "metadata": {
        "id": "auEKDUfUvI9y"
      }
    },
    {
      "cell_type": "code",
      "source": [
        "#строки сохраните с соответствующими названиями. из них мы возьмем только первые 100 нуклеотидов, иначе график совсем сойдет с ума\n",
        "\n",
        "mers = mers[:100]\n",
        "sars = sars[:100]\n",
        "sars2 = sars2[:100]"
      ],
      "metadata": {
        "id": "6R3yrf8n9knP"
      },
      "execution_count": null,
      "outputs": []
    },
    {
      "cell_type": "code",
      "source": [
        "## ваши циклы для sars и mers"
      ],
      "metadata": {
        "id": "J4U69Q184dFX"
      },
      "execution_count": null,
      "outputs": []
    },
    {
      "cell_type": "code",
      "source": [
        "y_coords = np.arange(0, len(sars), 1)\n",
        "x_coords = np.arange(0, len(mers), 1)\n",
        "y_names = list(sars)\n",
        "x_names = list(mers)\n",
        "\n",
        "\n",
        "plt.rcParams[\"figure.figsize\"] = (10,10)\n",
        "\n",
        "plt.scatter(x, y)\n",
        "\n",
        "plt.gca().set_xticks(x_coords)\n",
        "plt.gca().set_xticklabels(x_names)\n",
        "plt.xticks(fontsize=7)\n",
        "plt.gca().set_yticks(y_coords)\n",
        "plt.gca().set_yticklabels(y_names)\n",
        "plt.yticks(fontsize=7)\n",
        "plt.title('dot plot for sars&mers')\n",
        "pass"
      ],
      "metadata": {
        "id": "4JFC5u5KHL4N"
      },
      "execution_count": null,
      "outputs": []
    },
    {
      "cell_type": "code",
      "source": [
        "## ваши циклы для sars2 и mers"
      ],
      "metadata": {
        "id": "tWFRJVhAv9LQ"
      },
      "execution_count": null,
      "outputs": []
    },
    {
      "cell_type": "code",
      "source": [
        "y_coords = np.arange(0, len(sars2), 1)\n",
        "x_coords = np.arange(0, len(mers), 1)\n",
        "y_names = list(sars2)\n",
        "x_names = list(mers)\n",
        "\n",
        "\n",
        "plt.rcParams[\"figure.figsize\"] = (10,10)\n",
        "\n",
        "plt.scatter(x, y)\n",
        "\n",
        "plt.gca().set_xticks(x_coords)\n",
        "plt.gca().set_xticklabels(x_names)\n",
        "plt.xticks(fontsize=7)\n",
        "plt.gca().set_yticks(y_coords)\n",
        "plt.gca().set_yticklabels(y_names)\n",
        "plt.yticks(fontsize=7)\n",
        "plt.title('dot plot for sars2&mers')\n",
        "pass"
      ],
      "metadata": {
        "id": "Yf9Ti5oZv4oz"
      },
      "execution_count": null,
      "outputs": []
    },
    {
      "cell_type": "code",
      "source": [
        "## ваши циклы для sars и sars2"
      ],
      "metadata": {
        "id": "D5n_hQRVv-0S"
      },
      "execution_count": null,
      "outputs": []
    },
    {
      "cell_type": "code",
      "source": [
        "y_coords = np.arange(0, len(sars), 1)\n",
        "x_coords = np.arange(0, len(sars2), 1)\n",
        "y_names = list(sars)\n",
        "x_names = list(sars2)\n",
        "\n",
        "\n",
        "plt.rcParams[\"figure.figsize\"] = (10,10)\n",
        "\n",
        "plt.scatter(x, y)\n",
        "\n",
        "plt.gca().set_xticks(x_coords)\n",
        "plt.gca().set_xticklabels(x_names)\n",
        "plt.xticks(fontsize=7)\n",
        "plt.gca().set_yticks(y_coords)\n",
        "plt.gca().set_yticklabels(y_names)\n",
        "plt.yticks(fontsize=7)\n",
        "plt.title('dot plot for sars&sars2')\n",
        "pass"
      ],
      "metadata": {
        "id": "PxndXm81v5Ni"
      },
      "execution_count": null,
      "outputs": []
    },
    {
      "cell_type": "markdown",
      "source": [
        "# задача 3: подпоследовательность\n",
        "\n",
        "теперь, когда вы видели, как выглядят схожие сиквенсы, задачка посложнее: перед вами две последовательности ДНК. постройте dot plot по ним (в вашей таблице по оси икс должна быть sequence, а не sequence2, иначе график будет кривой с:) и посмотрите, есть ли какая-то подпоследовательность, которая много раз повторяется в длинной последовательности? загуглите ее и предположите, откуда длинная последовательность взята)"
      ],
      "metadata": {
        "id": "Rk08u0N1wPDV"
      }
    },
    {
      "cell_type": "code",
      "source": [
        "sequence = 'TTTAGGGTTAGGGTTAGGGTTAGGGTTAGGGTTAGGGTTAGGGTTAGGGTTAGGGTTAGGGTTAGGGTTAGGGTTAGGGAGTAGGGTTAGGGTTAGGGTTAGGGTTAGGGTTAGGGTTAGGGTTAGGGTTAGGGTTAGGGTTAGGGTTAGGGTTAGGGTTAGGGTTAGGGTTAGGGTTAGGGTTAGGGTTAGGGTTAGGGTTAGGGTTAGGGTTAGGGTTAGGGTTAGGGTTAGGGTTAGGGTGTTAGGGTTAGGGTTAGGG'\n",
        "sequence2 = 'AACTTAGGGACC'"
      ],
      "metadata": {
        "id": "VjB6--Xd45WU"
      },
      "execution_count": null,
      "outputs": []
    },
    {
      "cell_type": "code",
      "source": [
        "sequence = sequence[:40] #можете поиграться с индексами, но длину в 40 лучше оставить, так нагляднее"
      ],
      "metadata": {
        "id": "oOamgSYmTjp1"
      },
      "execution_count": null,
      "outputs": []
    },
    {
      "cell_type": "code",
      "source": [
        "# ваш код"
      ],
      "metadata": {
        "id": "UYrJsQYeTCH0"
      },
      "execution_count": null,
      "outputs": []
    },
    {
      "cell_type": "code",
      "source": [
        "y_coords = np.arange(0, len(sequence2), 1)\n",
        "x_coords = np.arange(0, len(sequence), 1)\n",
        "y_names = list(sequence2)\n",
        "x_names = list(sequence)\n",
        "\n",
        "\n",
        "plt.rcParams[\"figure.figsize\"] = (10,2)\n",
        "\n",
        "plt.scatter(x, y)\n",
        "\n",
        "plt.gca().set_xticks(x_coords)\n",
        "plt.gca().set_xticklabels(x_names)\n",
        "plt.xticks(fontsize=8)\n",
        "plt.gca().set_yticks(y_coords)\n",
        "plt.gca().set_yticklabels(y_names)\n",
        "plt.yticks(fontsize=7)\n",
        "plt.title('Dot plot')\n",
        "pass"
      ],
      "metadata": {
        "id": "ypN1NaOrS8O_"
      },
      "execution_count": null,
      "outputs": []
    },
    {
      "cell_type": "markdown",
      "source": [
        "# домашняя задача\n",
        "\n",
        "напишите программу, которая будет выводить score алгоритма смита-вотермана. это не должно быть сложно, если вы написали алгоритм нидлмана-вунша. нужно только сделать пару изменений:\n",
        "\n",
        "* a_row и первый символ b_row теперь нули\n",
        "* если значение в клетке меньше нуля, клетка обнуляется (значение в клетке = max (diag, up, left, 0))\n",
        "* теперь score не обязательно находится в последней клетке! поэтому либо запоминайте всю таблицу (помимо a_row = b_row записывайте старый a_row в один большой список) и ищите в ней всей максимум, либо ищите максимум в каждом a_row и сравнивайте их. \n",
        "\n",
        "\n",
        "\n",
        "\n",
        "\n",
        "\n",
        "\n",
        "\n"
      ],
      "metadata": {
        "id": "uKObB_Evxq7l"
      }
    },
    {
      "cell_type": "code",
      "source": [
        "# ваш код"
      ],
      "metadata": {
        "id": "Wsp-GdCOzJOG"
      },
      "execution_count": null,
      "outputs": []
    }
  ]
}