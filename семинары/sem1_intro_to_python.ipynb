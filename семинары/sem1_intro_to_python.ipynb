{
  "nbformat": 4,
  "nbformat_minor": 0,
  "metadata": {
    "colab": {
      "name": "bioinf1514_sem1.ipynb",
      "provenance": [],
      "collapsed_sections": []
    },
    "kernelspec": {
      "name": "python3",
      "display_name": "Python 3"
    },
    "language_info": {
      "name": "python"
    }
  },
  "cells": [
    {
      "cell_type": "markdown",
      "source": [
        "# Интро в ноутбуки"
      ],
      "metadata": {
        "id": "_Vst3enP1EE6"
      }
    },
    {
      "cell_type": "markdown",
      "source": [
        "Привет, т.к. мы не уверены, что у всех установлен и работает питон, тем более не уверены, какие у вас версии, будем работать в ноутбуках. Они не сильно отличаются от привычных вам сред, вы быстро разберетесь!"
      ],
      "metadata": {
        "id": "VVy4yW0NutZW"
      }
    },
    {
      "cell_type": "markdown",
      "source": [
        "В ноутбуках есть текстовые блоки (как этот) и блоки для кода - в них можно писать программы, как вы писали в PyCharm или в Sublime. Для того, чтобы запустить код, нужно нажать комбинацию Shift+Enter. Код можно писать в одном блоке или раскидать его по нескольким. Если раскидывать, запускаться он будет не весь сразу, только часть из запускаемого блока. Переменные между блоками и их значения запоминаются, так что будьте аккуратнее!"
      ],
      "metadata": {
        "id": "HbO4uYJOu-QW"
      }
    },
    {
      "cell_type": "code",
      "source": [
        "i = 1\n",
        "j = 2"
      ],
      "metadata": {
        "id": "SzIovtZey1jB"
      },
      "execution_count": null,
      "outputs": []
    },
    {
      "cell_type": "code",
      "source": [
        "print(i+j)"
      ],
      "metadata": {
        "colab": {
          "base_uri": "https://localhost:8080/"
        },
        "id": "jhfFeSkPy3bf",
        "outputId": "14ca28cc-4a26-469e-e947-65d5cc097d3a"
      },
      "execution_count": null,
      "outputs": [
        {
          "output_type": "stream",
          "name": "stdout",
          "text": [
            "3\n"
          ]
        }
      ]
    },
    {
      "cell_type": "markdown",
      "source": [
        "Еще одна фишка ноутбуков - она выводят значение последней написанной в блоке строчки. Поэтому работают такие приколы:"
      ],
      "metadata": {
        "id": "gcPMTxWay6R2"
      }
    },
    {
      "cell_type": "code",
      "source": [
        "print(5)\n",
        "j"
      ],
      "metadata": {
        "colab": {
          "base_uri": "https://localhost:8080/"
        },
        "id": "f5YAVNrIzEiY",
        "outputId": "471787d9-94c2-4b22-c1a1-5fb421866e8f"
      },
      "execution_count": null,
      "outputs": [
        {
          "output_type": "stream",
          "name": "stdout",
          "text": [
            "5\n"
          ]
        },
        {
          "output_type": "execute_result",
          "data": {
            "text/plain": [
              "2"
            ]
          },
          "metadata": {},
          "execution_count": 7
        }
      ]
    },
    {
      "cell_type": "code",
      "source": [
        "i+j"
      ],
      "metadata": {
        "colab": {
          "base_uri": "https://localhost:8080/"
        },
        "id": "QX4c6FIfzGD3",
        "outputId": "19678d89-cc8a-4cdb-c319-19536ec59736"
      },
      "execution_count": null,
      "outputs": [
        {
          "output_type": "execute_result",
          "data": {
            "text/plain": [
              "3"
            ]
          },
          "metadata": {},
          "execution_count": 8
        }
      ]
    },
    {
      "cell_type": "markdown",
      "source": [
        "С текстовыми блоками вам пока работать не придется + они интуитивно понятные. Единственная штука: в левом верхнем углу есть значок (фотка снизу), если нажать на него, вам откроются разделы этого ноутбука - так вам, быть может, будет проще ориентироваться)\n",
        "\n",
        "![picture](https://drive.google.com/uc?export=view&id=1XF3WRE1web15M5fXx0ZIR_x4eof7oQwZ)"
      ],
      "metadata": {
        "id": "7Gopk2iI0HuX"
      }
    },
    {
      "cell_type": "markdown",
      "source": [
        "# Тренировочные задачки"
      ],
      "metadata": {
        "id": "p7eoTIwduowp"
      }
    },
    {
      "cell_type": "code",
      "source": [
        "a = 'privet'\n",
        "len(a)"
      ],
      "metadata": {
        "colab": {
          "base_uri": "https://localhost:8080/"
        },
        "id": "gLRdwBUc9INI",
        "outputId": "c5cc64b9-1450-443d-9ae5-883ea26b04a2"
      },
      "execution_count": null,
      "outputs": [
        {
          "output_type": "execute_result",
          "data": {
            "text/plain": [
              "6"
            ]
          },
          "metadata": {},
          "execution_count": 10
        }
      ]
    },
    {
      "cell_type": "code",
      "source": [
        ""
      ],
      "metadata": {
        "colab": {
          "base_uri": "https://localhost:8080/",
          "height": 35
        },
        "id": "8f1gPO7Q-GGF",
        "outputId": "fa99efb1-289b-48dd-f18d-2fddda2207ea"
      },
      "execution_count": null,
      "outputs": [
        {
          "output_type": "execute_result",
          "data": {
            "application/vnd.google.colaboratory.intrinsic+json": {
              "type": "string"
            },
            "text/plain": [
              "'t'"
            ]
          },
          "metadata": {},
          "execution_count": 11
        }
      ]
    },
    {
      "cell_type": "markdown",
      "source": [
        "## 1\n",
        "Дана последовательность ДНК. Нужно вывести 4 числа, разделенные пробелами, показывающие, сколько раз буквы  'A', 'C', 'G', и 'T' встречаются в последовательности\n",
        "\n",
        "**Пример**: \n",
        "\n",
        "input:\n",
        "> *'AGCTTTTCATTCTGACTGCAACGGGCAATATGTCTCTGTGTGGATTAAAAAAAGAGTGTCTGATAGCAGC'*\n",
        "\n",
        "output:\n",
        "> *20 12 17 21*\n",
        "\n",
        "\n",
        "\n"
      ],
      "metadata": {
        "id": "GAKfaIs4Z3Kr"
      }
    },
    {
      "cell_type": "code",
      "source": [
        "INPUT = 'GTTTGTCACCATGATTCACGTACTACCCGGTAGCTGGTAAGTGTTGCTATAGGGCTAATTCTTCTTGTCGCGGCTAACATCAAGTGACATTTCTCATGATACTCCTCGCCCTAATACATGACACTCCCTGAAGGGCCAGCGTCCGCCTGGGTTCCAGTAGGGAAAACTTCGAAAGGATAACCACGATATTGTCTACAAACCCATACCTCTTAACGACTGCACACGTCATAAGTTTGGGTCCTACAGACCATACAGACCCAGTATCCCAGCGCGCGCCGCCGATGAATATCAAGTTACCTGGCAGCGCCAGTTGACCCTAATTGCTCGAAGATTGCAGAGTTTCCACGTGATACCGTTTGAGTAGCCTCATCGTACCCTCGGTCGCTTGTAATACACCGGTCTATTCACTATGCCCCCGCGCATGCTCCAATCGTGCAACCCGTTACGAAGCGTACGTTAGTATACAGCCGGGCGCGCACGCCATCACGAACAAAGTTGCCAACCTACCGATTATTAGAGCGGCCAATCCCAAGCTGTCTCAACACAAATGTGCTTCCTTTCACTGGAAAGGGCGCATGATCGGCAACTCGGTATTGGCTTAGGGACGTCTTCCGATGGTTAACCTCTTCTAGGGTGGATAATTGTGAATGTTGTTTCTGGCAAGCAGACCGATTCGATTAGGAGACGAAGGCCTCCATACCTCGTACCTGGCGTATTAGACCATAGTAGCCAAGTACGTGGTAATCCGTCAGCGTCCACCGGCCTACTAAACGGCTAACCTCGACACATGGGGCGATTTCTCGCGCGTATAAGACGTCACAAGCTTAGGTCTCGGACAGACAAAATACGTCCCACCCAAATCTTGTGGTGTGTCTAAGTAGCACTGGTCAGCAAGGCCGTGGTAAAGGATTTAGCGATCGACTCGCCAGATAGTACCAGACTTACA'"
      ],
      "metadata": {
        "id": "ElUNfCuibOEN"
      },
      "execution_count": null,
      "outputs": []
    },
    {
      "cell_type": "code",
      "source": [
        "# ваш код"
      ],
      "metadata": {
        "id": "uDMXmDA5cF5N"
      },
      "execution_count": null,
      "outputs": []
    },
    {
      "cell_type": "markdown",
      "source": [
        "Ответ должен быть: 239 261 218 228\n"
      ],
      "metadata": {
        "id": "UefLDdYugGC4"
      }
    },
    {
      "cell_type": "markdown",
      "source": [
        "## 2\n",
        "Дана последовательность ДНК. Выведите комплементарную ей последовательность, сохраняя ориентацию (3' -> 5'). Результат не выводите через print, а занесите в переменную OUTPUT\n",
        "\n",
        "**Пример**: \n",
        "\n",
        "input:\n",
        "> *'AAAACCCGGT'*\n",
        "\n",
        "output:\n",
        "> *'ACCGGGTTTT'*"
      ],
      "metadata": {
        "id": "0vgwm4z-gtqQ"
      }
    },
    {
      "cell_type": "code",
      "source": [
        "INPUT = 'TAGGCGGTCCGTAAGAAGAATATATATCCTTCGATTTGAGACGACCAGGGGATGCGTCGCAGGTGAGGCAACCTGATTGCGGTCACATGACGGCAAAGGCTTTCGTTGGTTATTAGTGACTTGTCCTCTAGGCTTAGAAGAGGACGCGAACTAGGTCATTCACGGTTTAAATGACCTCCAGCTGAACCTCTAGAACAGACGTTGAGATAGCAGTAACGCCCAGTCTCCCACAGATACGTTTAACGAATTGCGTACCCCGCTGCGCAGTTTCGTAATAATACGTGATTGAAGCTTGGCATTCTTCTATTCCGTGCTCGTGATCCTGATACAGCTTTAGATGCTCTATACCTCTAAGTTTTGTTCGGGCCCGCCCAGAGGGTTACACCGAGTGAATTACTCCAGATTTGAACGTGGAATTCACTATATTCATCACCCAATTCGTTACCTCGTCGACCCTTTACGTTGAAACTCTCCGTATAATCGCATCATGGCCTGGCTAGGGGAGCAAATTGCGTATAAGCACCTATACAGGGTAAATTAAACAATCATTAGACCCGAGGGATGTACCTGACTACTTCGTATCCGACCAGACCTATATAAACAACCACAGGAGCTTCGAATTTGCAAGGGCTAGTGGATATCGGTCTGGAGAAACAAGGGTGAGGTTGAACGATGAGGGGACGCGTCGCTTTTGCATCTGGACTTTCCCTTCACAGTCTCTAGCGTTAGCCCTATGGCACCGGTCAAATCGTGTAAGCTCAATTGTTCGAGTTGGCGCCCTAATACCTCCTTGCGGGTTAGTGCATGCTATACTTTTATGCGCTAGAATACTCGCGCAGTACGCCCGGACGTCGGTTGCTTATATAGCCTGATCTGTGCCTAACGGAG'"
      ],
      "metadata": {
        "id": "FczCejVFg6Wq"
      },
      "execution_count": null,
      "outputs": []
    },
    {
      "cell_type": "code",
      "source": [
        "# ваш код"
      ],
      "metadata": {
        "id": "JsoNJP0vhsdu"
      },
      "execution_count": null,
      "outputs": []
    },
    {
      "cell_type": "code",
      "source": [
        "assert OUTPUT == 'CTCCGTTAGGCACAGATCAGGCTATATAAGCAACCGACGTCCGGGCGTACTGCGCGAGTATTCTAGCGCATAAAAGTATAGCATGCACTAACCCGCAAGGAGGTATTAGGGCGCCAACTCGAACAATTGAGCTTACACGATTTGACCGGTGCCATAGGGCTAACGCTAGAGACTGTGAAGGGAAAGTCCAGATGCAAAAGCGACGCGTCCCCTCATCGTTCAACCTCACCCTTGTTTCTCCAGACCGATATCCACTAGCCCTTGCAAATTCGAAGCTCCTGTGGTTGTTTATATAGGTCTGGTCGGATACGAAGTAGTCAGGTACATCCCTCGGGTCTAATGATTGTTTAATTTACCCTGTATAGGTGCTTATACGCAATTTGCTCCCCTAGCCAGGCCATGATGCGATTATACGGAGAGTTTCAACGTAAAGGGTCGACGAGGTAACGAATTGGGTGATGAATATAGTGAATTCCACGTTCAAATCTGGAGTAATTCACTCGGTGTAACCCTCTGGGCGGGCCCGAACAAAACTTAGAGGTATAGAGCATCTAAAGCTGTATCAGGATCACGAGCACGGAATAGAAGAATGCCAAGCTTCAATCACGTATTATTACGAAACTGCGCAGCGGGGTACGCAATTCGTTAAACGTATCTGTGGGAGACTGGGCGTTACTGCTATCTCAACGTCTGTTCTAGAGGTTCAGCTGGAGGTCATTTAAACCGTGAATGACCTAGTTCGCGTCCTCTTCTAAGCCTAGAGGACAAGTCACTAATAACCAACGAAAGCCTTTGCCGTCATGTGACCGCAATCAGGTTGCCTCACCTGCGACGCATCCCCTGGTCGTCTCAAATCGAAGGATATATATTCTTCTTACGGACCGCCTA', 'строчка не совпала, попробуй еще раз!'"
      ],
      "metadata": {
        "id": "IUr9GBcnhz9G"
      },
      "execution_count": null,
      "outputs": []
    },
    {
      "cell_type": "markdown",
      "source": [
        "## 3\n",
        "[Расстояние Хэмминга](https://ru.wikipedia.org/wiki/%D0%A0%D0%B0%D1%81%D1%81%D1%82%D0%BE%D1%8F%D0%BD%D0%B8%D0%B5_%D0%A5%D1%8D%D0%BC%D0%BC%D0%B8%D0%BD%D0%B3%D0%B0) - метрика, отражающая число позиций, на которые 2 строки одинаковой длины различны. В этой задаче вам предстоит найти расстояние Хэмминга для двух последовательностей ДНК. Как и в прошлой задаче, значение, которое у вас получилось занесите в переменную OUTPUT. \n",
        "\n",
        "\n",
        "![picture](https://drive.google.com/uc?export=view&id=1DRRxu3D6ncAWZoW0o_27M_FpmeKQSLf4)\n",
        "\n",
        "\n",
        "*на этой картинке расстояние Хэмминга = 7, потому что точечных мутаций 7*\n",
        "\n",
        "**Пример**: \n",
        "\n",
        "input:\n",
        "> *GAGCCTACTAACGGGAT*\n",
        "\n",
        "> *CATCGTAATGACGGCCT*\n",
        "\n",
        "output:\n",
        "> *7*"
      ],
      "metadata": {
        "id": "O3myLmExiRKY"
      }
    },
    {
      "cell_type": "code",
      "source": [
        "INPUT1 = 'TTCCCCACACCTCACCATAGTCGACTATATTCGCCCTTCGGACCGAATTTAAGGAGTTTGGCTACTAGACTCGCCGTGCAACCGAGGATAGTCACCCTTCGTAGTCTGGTCCCGGTACCAAGCCTATTGTTTTTAATGGTATCCTATTACACGATACGTCTACTCCATAGGCCATAGCTAAAGGTCTCGATTTGAACTGGGAGTATGAGCTGGCACGAAATTCACAGGATCGGGCGTCTAACTTTTATTGATGGTTATTAGGATCGTCTTTTACGAACGGGCGCGGATTCTGGCCTTGCGTTTATCCGCCCATTAGGTGCCTCTGGTTGCGGCCGAACTAGCTCATACTGCTTTCTATCTCTGAAGGATTGGGACTCCCTGTTAGTCCTCTGTCGTGCGAAGATCGTAAACGTTCGGGTGAGCAAATCTGGCACCCAACCCGCCCTATCTTGATCGGGATAAAGCTGGCGAGTCCTTCAGTGGAACACGTTCCTCGGTTCTCGAGTATCAAAGTGCAACGAATCCCAAAAACTTCGGGTGGGCCGGGCTTGTACCAGTCCCAAGACCTCTGGTTCACTCTTCTATGCAAGATTACGCTTCTCTCGGTATGTTCAATGCCGTGCCCGTTGGGCCTCGTTGACGCCCACATCCTGGACGACTCATAAATCCCATAGGATAACGAACAAGCCAGAGTGTTACCGAGCTGCTCCGTTTTCCTAACGTTGTACGCAGTGCATGATAGTGTGTATCGTTTCGGCGTCGAAAAATGCTCCAAATGTACAATCGTTTATGTTTCTCCGCATAGGATTTTGAAGATTTTGAACTGGATAAATCGCATATTAGCTTGACGTTGTAGAAGCAGAGGTTTGGATAATGAAGCGCCAGCTAGGAATGAGTGTCGCCCTGGCTTCGGCGACCATACA'\n",
        "INPUT2 = 'GGCCCCACTAGTCCCGATAATGAAGTGTTGTAGCCCTTAAGTGCGTAAGTATATAGTTCGCCTACTAAAATTGGTGTGCGGCATAGAGTAACGAGGATATAGGGAATGGTTCCTGTTTGTAGCAGACTGTGTGTAGTGACATAATGGACCCCCCCAATACTATATCAACGGCCAGACATAAAGACATCGCCTGGAAACAGTAGTCTTAACGGGATCAATAATCGGAGTAACTAAATTCTGTATTCTCGGGAAACTTGTACAGTTGTCAGTCTACGCACGGCCTCGTCAGGTGGGCTTTCAAGCACTCAATCCTTGAGTAGATCTGACTGACTCAAACTTCTCTTATACTCCTCGCTATCTCCGCACGAACGATACTCTCAATTAGTACGCTAACGTGAAACGTTATCTTGATTACAGTTGTTGGAGAGTTATACCGAGTCCGAGCTAACGCGATTGTGCGAAATCCGTCGGGATTTCTGTAGAAAAACGGCCTACGTCTTTTGAGTATTAAAGCGCAATGCATCCGTAAACTTTCCAGTACGATGACCTGCGGCACATCCCAAGAAATTCGTGCACCTCCGATCTGAAAGATTCCCTTTAACAGATTCGGAAATATGAAACGACGATTTGTGATGACGTTCGTCAACACTACAGAAGACACTTAATGTCCACCAGCTAACAAAGAAAACAGGACGTAGTTGTGACGATCAAGTGTCCCTACTAAATTTGCGCTCCAATTCCGTTTATATCCCTTTAGAGTCTTTAAGTCACCCTCTCGTGATACGCTTTATGTTGAGGAACCTAAGTATTTTATAATACGGAGCTGGATCAACTGTATATGGGCTCCTCGTTATGGGCACACTGCATGGCGCAATGCTTCGGACCACATGAAAGAGTACACCGGTGGTGTGCTTGTACACATC'"
      ],
      "metadata": {
        "id": "kUGMVm2OiFCh"
      },
      "execution_count": null,
      "outputs": []
    },
    {
      "cell_type": "code",
      "source": [
        "# ваш код"
      ],
      "metadata": {
        "id": "2gKVQD540CYe"
      },
      "execution_count": null,
      "outputs": []
    },
    {
      "cell_type": "code",
      "source": [
        "assert OUTPUT == 460, 'попробуй еще раз!'"
      ],
      "metadata": {
        "id": "tt_FFMj-oOkK"
      },
      "execution_count": null,
      "outputs": []
    },
    {
      "cell_type": "markdown",
      "source": [
        "## 4\n",
        "Белки состоят из 20 аминокислот. У каждой есть свое название (аспарагин, гистидин etc), но в биоинформатике использовать названия длиннее одной буквы неудобно - поэтому длинные канонические названия переводят в однобуквенные. Ниже есть табличка соответствий, она вам не понадобится при решении задачки, но можете ее погипнотизировать:\n",
        "\n",
        "![picture](https://drive.google.com/uc?export=view&id=1y6r2A_5_KTacI8-w4KJSJVCz9hq3T5R6)\n",
        "\n",
        "В этой задаче вам придется поработать со словарем!*(который уже для вас сделан, потому что делать его с нуля - мучение и того не стоит)*. В этом словаре указаны триплетные кодоны мРНК и соответствующие им аминокислоты. Ваша задача - перевести последовательность РНК в белок. Если подпишете в комментах, как этот процесс называется - вам плюсик в карму.\n",
        "\n",
        "**Пример**: \n",
        "\n",
        "input:\n",
        "> *'AUGGCCAUGGCGCCCAGAACUGAGAUCAAUAGUACCCGUAUUAACGGGUGA'*\n",
        "\n",
        "output:\n",
        "> *'MAMAPRTEINSTRING'*"
      ],
      "metadata": {
        "id": "drbmE6troXvM"
      }
    },
    {
      "cell_type": "code",
      "source": [
        "dict = {\"UUU\": \"F\", \"CUU\": \"L\", \"AUU\": \"I\", \"GUU\": \"V\",\n",
        "       \"UUC\": \"F\", \"CUC\": \"L\", \"AUC\": \"I\", \"GUC\": \"V\",\n",
        "       \"UUA\": \"L\", \"CUA\": \"L\", \"AUA\": \"I\", \"GUA\": \"V\",\n",
        "       \"UUG\": \"L\", \"CUG\": \"L\", \"AUG\": \"M\", \"GUG\": \"V\",\n",
        "       \"UCU\": \"S\", \"CCU\": \"P\", \"ACU\": \"T\", \"GCU\": \"A\",\n",
        "       \"UCC\": \"S\", \"CCC\": \"P\", \"ACC\": \"T\", \"GCC\": \"A\",\n",
        "       \"UCA\": \"S\", \"CCA\": \"P\", \"ACA\": \"T\", \"GCA\": \"A\",\n",
        "       \"UCG\": \"S\", \"CCG\": \"P\", \"ACG\": \"T\", \"GCG\": \"A\",\n",
        "       \"UAU\": \"Y\", \"CAU\": \"H\", \"AAU\": \"N\", \"GAU\": \"D\",\n",
        "       \"UAC\": \"Y\", \"CAC\": \"H\", \"AAC\": \"N\", \"GAC\": \"D\",\n",
        "       \"UAA\": \"Stop\", \"CAA\": \"Q\", \"AAA\": \"K\", \"GAA\": \"E\",\n",
        "       \"UAG\": \"Stop\", \"CAG\": \"Q\", \"AAG\": \"K\", \"GAG\": \"E\",\n",
        "       \"UGU\": \"C\", \"CGU\": \"R\", \"AGU\": \"S\", \"GGU\": \"G\",\n",
        "       \"UGC\": \"C\", \"CGC\": \"R\", \"AGC\": \"S\", \"GGC\": \"G\",\n",
        "       \"UGA\": \"Stop\", \"CGA\": \"R\", \"AGA\": \"R\", \"GGA\": \"G\",\n",
        "       \"UGG\": \"W\", \"CGG\": \"R\", \"AGG\": \"R\", \"GGG\": \"G\"}"
      ],
      "metadata": {
        "id": "hR-KHAT0oWqm"
      },
      "execution_count": null,
      "outputs": []
    },
    {
      "cell_type": "code",
      "source": [
        "INPUT = 'AUGCUAGGAGCCUCUGGGCUCCUGCACCUGAUUGGCACACGGCCCGUCGCGCAGUUGAAUCUCAGACAUGAAACGGCACACGCCGAGUCUGGACGACUUGGCGUUACACCUAAAGCUAAUGGCGAAGUAGAUGUGACGUAUCGAAACCUGUUAUGUUUGUCCAUUGUUGUGCGGCCCCCUUAUUCAGAUACUCCAUCCUGGAACGUGUUACAUAGCAUAGGCGAUGCGAAAAACGGGAAUCUGGAUAUUGUGAAACAUAGGGUAUCACCGCUCAUGUUUAGGCCGAGAUUCGUUUUAUGCUUCUUCCAAAGCAACAAGGGAAGUACCAGGGGUCUGCGCCCUAAGAAGUAUCUUGGUAUUACACAUCUUCAGGAAAUUCAUCGGGCUUUUCAUUACGGGAAAGUAGGGAGAGCGGCCUGGUUCAGAAUUACUCAAAUACUCGUUGGGGGCUCCUUGACAGUGAGUAAAAACGGUACUGUUACAGCGCGGAUCAGUGGUCCUUGCUGGCCCGUGAACACCCAAAGAGGGUCAUCUAAUCCCGGGUGUGCGAUCAUUGACUCGGUACUUUGGCGCCUGGAUGUGCCGCUGUACUUGUCAGCUAUGGCCGACCGUAAGCAUUGCCGCUUCCAGGAAGUAUUUACCAUGAAUAAGACACAACCUCCUUGGCUCUAUAUAAAGGAGGACCAAAAAUACGGAGGGGCACCCGAUGAAGCUUUAGUAGUUGGGUACGCCGAUGGGUCAUUCGUUCUCGCCCAACGUAAUGGAACAGGCUCGCACAGGUUUUGGUAUAGAGACUGGGCCUUUUCGCCCCACCAUUCUUGCGGCGAUGAACAUGCGAUCCGAGGUGCCGGUAGUCACUAUCGUGAUAACUCCAUGCGAGGUGCCCACGUGUUAAACAUAGCAAACUGCUUGAAGGGCAGCUAUAGAGACCUGAGUUCGUCAUUUAUUUUCGCCGCGUGCAACUGUCCGUGGAGCCAUAGGACGAGUCCUACAUGCGAAAUACCGGGUGAGGUGGCAGCAUCAGCCCGGGGACUACCCUCGACUCUCUCCGAACCGAUAUCUCGUGAGAGCUCCCUAGGCGGGGUGCUAAUGCGUGGGGCUCUCAGAAAUAAAGCGCGGCGGUCCGCGUACGAUACAAAAACUGCUCCUUUUCCCAUUCAUGCCUGCGCUCUUCAUAGUUCAUGCGACGACUGCAGCAGCAUUGUACCUCAUGUCAGCGGGCUGUUUAAGGAAGACCUCCAGCAUCCUGAGCGACCUAAAGACAUUCGAAUACGUGUGCAUACAUCGUACGCCAAUGCCUCCUCGUCCUGCGAUACUUGUAGUGGCGGGUUAGGUGGAAUGGACCGUGUUGAGAUGGCCCGGAGUAAGAUUAGUCCCAAAGUCGUUCAUUGGAUCACAAACAGAAGCCUGGAUUACUCCACGCUUAGGAUUGAACAAAGCACUCAUGCCCUAGGCCUCUUUUUGAGCACUCGUGCCCACGGCAGAGCCUUAUCAAAGCCUGCGUGUGACUCAAGUCAACGAUACAGCGACAACAUACUUCCCUGUGACAACCAGCUGCAGAUUUUAGCCAUUCCACGGUCAUACAAGUUGGACAUUGCAGGUCAGCUUAGAUGUCAGGCAAGUACUAGUGAAGUAGCCAGCACGUCAACCAGUUCUGUUAAGCUGCAGGAAUGGGGGGAACCGGCGAAGCCCAGGCGCGACACUCCUGAUCACGAACUGCACGCGAGGCCAAUGGGCUCAGGCGGGGCCUCCCCUAGACCUCUCCGGCUCCUUACUUCUCUUAUCUGGGUGGAUCGCGAGGGCGUGUCGUGGGAGAUGGGCGCGGCAGUGAGGGAAGUGACGUUAGGGUCCCCCGGCGGGAUGCCCUGGGGCGCAUACAUUGAAUUUCAUAGAUCAUUUACAAAUAUACGACACUCGCGUGGCGCCUUAGCCUCUUUUACGAACCGCGUUACGAUAUCGAGCGGAGGGGACCUUGGCGUACUAGGCGGCUUCAUGGUCCACCUACUGAUCGCCGAAGUCGAAGGCUCUCACGUCUCACGUAUCCAAAUAUAUUAUCAUUCGUUCGUGUCUUCCCUUCUACUUCCCUGGCGGUCGGGGAAAACUGGCCUUAUGUACCCUUUUUUUCAAGUAUGCGCAACCCGAAGUAAUUGUCCUGCUAACGGUUUUGCACACCCUCUUGCUGUCUCUCAGUUGGAUGGCGCCCAUACUGAUCAGCCCAUAAAUCCCUUCCGUUCUGAACUGACCCACAUCGAUCCUUGUCACCGAACAGCGCACAUUUCGCAUGACGAACGUUCCCAUGCAGUUAGCGUUCUUUACCACCAACCCCCACAUCCUGGCUUGACAAAUUCUAGAACUAUAUUACGAUUCCGCAGGCCCGUAGCAUCGAACUACAGUUGCAGUAGCCCUGCCGGAAACGCACGGGGGGCCCUAUUAUCAGUCGCCCGAACCUUUGUAAAUCGAUGGGUGGAAAGGAGUUAUGACGCCCGCGAGACAUGCCGUGUCAAAGUGCCUACCUGUUGGAUUGUACAUUGGACCUUACUUAUAUACCGUGCUGCUGGCCGCCAUGAAAUGUUCGCGCGUUUUAGUAUGUAUCAAGGAGGUUGGGCACAGGCACGCUGUCCGCUGAGCUCGGUUAUUUCCGUUUUCCAUCUCCUGUGGUGCUCACGCAGCAGUACUCGUAGAUUCACGGAUCUUAGCCCACCCCCUAGGGCGAAAACCCUCGCUCCUCGGCGCUUGGGUAAACGAAAAGGCCACGCGAAAUGUCGAUGUAUCGCAUACAAUGAUGGUCUAAGGGUACUCUUAAACAUUAUUUUCAGGGGAAAUGCGGCUAGAUCCCUAAACUGGGCGGGGCUGUCCACCGCUCCUGUACCCUCUGGGAAGCCAGAGCAAUGCGGAAGCGAGGACCGUCAAGAGAUCCCUGCUUUCCGCCUGCACGGUAUACGGGCUACAAGUCUACCUAUAACGUGGCUGAGGUUCCAUCUCUUGGACAACGGGCGACUUCGUAAACUGACGUAUUGCUGGCGGUAUCAUCAUUUGGGCACCGUUGGAACGGGGCGCCCCGGUCGCACCAAGCGCCGCGAAGUGCUCAGACGGACCCUGUUAGUGGACGGAUUCUCUAUCGUAUCCCUCCACGGACUGCUGUGUUUACGAGCCAUCUCAAGUGCGCAGUGGCGAAAGCCCUCAAAUGUAACACGGUAUACUAGCGUGACGCAUGCCCAAAAGCAGACAAUGACAUCUGUUAUUACUAAACCCCCGGUGCGUUUGCGGUAUGCUGGGACUACACUGAUAGAGCGGAGCCAACGAUCAUCCCCAGUCAGCCGACUUCUCCUGCUCAGGACACAUCCCUCCAUUGUCCUCACUCGGUAUUUUGAGCUGGUACGAUGGGGGGGGCACUCCUUCUAUGCGGUAAUGGUCAUACAAUUCCGGAGCGAGUUGAGAUUGAAUACGGAUUCAAGUGUUCAAUCCACGACGAUAUGGGUAGCCUACGGCCGGAUUGGAGUGCCGAAGCGCGCAGAAAGUCCCACAGGCCUUCAUCUCUCCAGGUCACUACUAAAAUGCGCGGCCGGCCUUCUCUCCGGUCCUACCCACACGCGGUCCUGCGCUACAUCAUUGGUGCAAUUAGAUCCGUGCUCUGUUGACAAAAAUAUAUUUAUUCGAUCUUACACGCUAAAUAGUAAAGGCUAUCGGAGUCUGAUGAACGUAGUUCUAGUGCACACGUUGAACUGCCGACCCAAACUAAAUCGCCCCCCCUAUUCAGGUCGGGAAUCAGGACCACCAACAGAAGUUUUCCGGAGCGGACUAUACACCGUGGCCAGAACUAGUCCACCGGACCCCCUACUAAAUGUGUGGCAGUCGAGCCCAUUAUCAGGGCGACGGGGUAGCGAGGCGGCUACAGGAAGUAAAACCAGUUACACAGAUCUCGGCGCAUUAACAGGAAUCGACGUGGUACAGGGCGGCCUUUUCCUGCACGUGCUAACUAUUUUGUCUUUCGGACAGACAUCUUUUGGGGAUAUGGCGAACUCUCUGACAAUAUUUUGCAUCAUGAUUAAUCCCUGCUCUUGUCUCGACCCGAGUCCCAAAUGGGCCAUUGACACACUGAUAGCGCGUAGUAUUGAGUACAAAUUGACUGGUUGUAGCCUCUCCCUUUCUGUCGAUCGCAGUUCGCUAAAGCCAACACAGUCCCUGGGCAGCUCGCCGUGCCUCCCGGUAGGGGGUACCCAUCUGAUGAACGAACGUGGAGAACUACUCGUCCUAGUCCGCAAGCUUUCUGAAUCGUUAUGCUUCCUAGCAGUAUUGUACGUGAUCCAAUAUGUAUCAGUAAGGUUUGGUGAAAAUUCAAGAUUGAAAGUAAGAAGCCAGUGCUAUUCAACUCCGACUCAAUCGGUUAGAGACUUAUUUGACGAUUCGGCUGUGUUUGGUGGUCGUGUAGACAUCACUAUCCGUAUAGGUGUGGGCAGGGGUCGUCAUGUUCGUAAGUUCACGUUCAUUAUUCAUCACAGUCAAUAUGUUACACCCAGACGGGCGUUCGCCCUAUGGCUACAACCGCGUCACCGCGCUUAUCAGACGACGAGCGGAACAAUGCUGGUUCUGCUACCCUCUUCUCAUAGUUCAGCUUACACGGAGCUGCGUAUGACCUGGGAGGAGCCAGCACGACUUGAUCGUCGUCAACAGACGCAUAGUAGAUUAUCUGGGCCAGGUCUCAGCAAUCAGUCUAGAGCAAACUAUUCCAUCGUUUCGUUGCUUUUUGUAGUGACGAAGACUGACGCUAGCAUACAAUCAAUCUCAGGUUGUCUACUUACUUCCAGCCGAGGCCCAAUGCAUGUUACCAUGAGUACCUCGCAGAAUAAUCUUAAACCCAUGGCUACUGGUUGGCUGGCACCGCGCAAGUGGGGCCCGUGCACAAGAUAUCAGAAAUUCCGCUCACGGGACGAGAGUGCCAUAGGUACCAGUCACCGGGGGGCUUAUUGUGAAGGAGUCAAGCCGCGCGCACAUCAAAACCUAGGGAAGCAGGGAAGGCCACUGAAAGAUGAUAAGGUGGGGAGGAGGGGCGACCAAUUAGCUUUGCGGACUUCGAAACUGGUUUUACAACGACGUCGCCCCUUGACGAGGAUGGUUUCUAGCCUUACCUCGGUAGGGAUAGCGCGUCAUAGUUCACUGAACUUCGCUCAAGUCAAGAGUGUUAGGGUAGAACCAUCCAUUGCCGAUUCGGGAGACCACUACCGCCGAGGUCUUUUGUCGCAGACGGGCCGUAAGGGUCUUCCCCGGCGGUCCUACACUCACCAGCUGGGCGGAGGAUCAAAACCACGGCCGCGGAUCUGUUCUAUACCGCAAGUGAUCCCGCUACGAGGUUCUGUCGGCGCGAAUCGACCAACGCUCUCAGUAAUGAGAUGUGGAGGAGGCACUCAGACCUGCAGCUCUUUGUAUACUAAACCCGCCUUGACUACGCUGGAAUUUAGGUUGAAAUCCAAGACAGUGCAGACCCUCGGGCGAAAGCCCCAUCACAUGUCUUGGAGGCAUAGUACGAGUCACCCAAGGCACGGCAAAAAGUGGCUGAUCGCUUGCAUCACCGUUCUAGUGGGCGGGACUGGGUUCAUGUACAUGGAUAUGGAGCGGGGUAUGCCGCCAGUUGGGCUCACGCUUUUGCAUACGCGGCGACUUGUUCGCCCCUGUAGUCUGGCGUCACGGUUUGAUAGGGGGCUAAUUAUUCCCAAGGUGGGACGACCUCAGUUAGUACUUAAUGCUUUGGACUGGUGCGCAAUAGUAGUGCUAACGACAGGGACCCCGAGUGUGGAAAACCUGUUACUAACCACUCGGGGACUGAGGCCCCCUCCGCAGCUUAGUGAUGACCUCCUUCAUUAUCGGAACCAGAGGGACUCCGACCUCAGAGAACCUCUUGCAUCACAGCGGGCUCACUCAAGUCUAGUGCAAUCGGGUGGACCGCGACCCACUAUGGGGAUAAUUGACAUGGUUCUUAUUGCCAAAUACAGGAAUCAGAAAACGCUUUCCUGCGUAUACGAGAUACACGACUACAAGACCCAUGCAACCCCGGGGCCGGGAAGCAACCUAAACAACCUUCGCGACUGUUGCCAUCGAAGCCAGAUAAGCCACACGCACAAUAAAACAGACAGCUGGCCACGUACGCGUGCGAUACCGCGAAAGAUCUUCUUUCGUCUAAUUCAGGAUGAUAGCAUAAGCCAGAUCCAGCGCGGUUGCAGAGCACUUGGCUCUAUGGCUACGUUUCAAUCCCAUUGUAACUUAGGUUCUCCUAUCCCUUCGUCACGAGGUGCACUCGAGAGAAGCGGUUCUUCGUUGAACGUUCUGUUCAAUGCAGAAUCUGAUGCAAAUUUGAGUAAUUGUCGUCGACGUGUUAAAAGGCCUUUUCCCGUUGUAUUUCCUGAGCCUAACAUACCGGAAGGGACUUGGGCGCACAGGAAACAAUUCUAUGCAGGUACCGCAUACGUACCGAUAGUCCGGAGGCUGCCUCGUACUGACUCGGUGGGUGUAAAGCCAGUGCCUAAUGUGCAUUGGAGUCUAGGGUCUACCGAGCAGCUCAGAGAAGGCUACAAACCCAGCAUUACGCUUUUCGCUUUACGUAGAUAUGACGGGGAAAACCCUUCCAUGGUCCCGGCCCCCACUCGGCCCUGCGACGUCUUGGAAGCUUUUACAGGUGUAGUGUUAGCAAGACAGCAGUACGCCUCGAACGUUCCUAACAGUGAUGAAAAUAAUACGCUCUCCAGUAUUCUACCACACCACGUCCUAUUCCGAGGCUCUACAAGGGCUGGACCUAACGGCGAUUACAAAGCCCAGAAACGCUAUUGCAUCGACGUGAAGACUACCGUUUAUAACGGGCCUCGGAAGGUAUGCUCUCGUGAGUACGCUGAUCUGGGUUUUUUGUUCUCAGGACACCGCUUUCAUAAGUGGUUCGUGUGGCGGAAGACAAUAUCUUUAAAUUUGACGUCGGCUAGUGAUGUAUGCCCUACGACAGAAGCUCUGCUGUUGGUAGAGCACAAUCGUGCUGUGAUGCCCGACCCAAUUUGUUGUUCACCUUUCAGCGGUCCGGAUCAGAAUUACCCUUGGUAUGGCGCCAAAGAGCAGGAUUGGACACUCUCGAUUGUUGGCAAGCCUUUGCCGGACCUCCAUCCCUGUUGGAUCAAACCAAAAGUUUCGUACCGAUCAUCGCGCUGCGGGACUUCCGGGAACCUUUCAACUACCAUUGCGCCGGCCGCUUAUCCUAUAAAUCCAACGACUUGGGCGGUGUUCAUUACCGGAUAUGUUAAUCCAGGAUGUCAGUUAAGUCGAAAUAAUCGGACAAGAGCAACUGGCCAUUCUACAUUUAUCCCCAGACCUCCAUUACUUUACAGAAUCGAUAAGCUGGGGCCGUUCAAAAGACGCAACGACCUGAUGCGAAUGACGAAAAGGGUCUGUAUGUUGUUAUCAAGACACUAUAUAAAAGAUUCUCGCCGAGUGACCGGACACUUCUUUCCUGGCAACGCGUUAUCAGGGUUACGUAUCAUGUCCGAUAGCACCAAAUUUGCGGUGUUAAGUGUAGUUAAUCAAGUACGGGUAAGAUCGACCGACGCGUACAGGCACCAUGAAUAUGAUACCAUCGCAACAACUAGCGGAAAUGUUCACCCAAAAAGGAGUAACCUGACAACCCCGGAAUACGAAGGGACGCUAUCUAACGAGGCUCUGUUUCCUGCUACCCCUGUUGCCGGGGUUAUGCGGGAAACACCAGUCGACUACGCAGAUGCGACCAUCGCUCUCCUUCUAAUGUCUUGUAAGAGUGUAACUGUCUGGACCUCGAGCCGUUACUCCUCCUACGUGUCGCUGUUGCAUUUGAUUCUUGUGGCGUUACGAACGCCUUCAGCGCAAAAACUGGCGACGGAACAUGGUCAUGGCUUACGUCUAGAACCCACCGUGAGCCUGACGGCCUGCCCAAGGCCGAGCUUUUGGUGCUAUCUAAGUGCCUCACUGGUACGGAGUAGCUCUUCACUCAUAAAGAGUGCUAAUACGGUGUGGCUUCUAACCGAAGCGCCAAGUGUGUUUGGACAAUUACAGUGGGCGUUGUUGCACUGCUAUCAAUUGGGUCACUUGGGACUCGCGGCCCCCAGGAAUAGCGCCUUUAAGGAAACUCAAAUUGUACCGAAGCCCGAAAUUUAUGGAGGUGCAAUAUGUUGCCCUUUGCAGUUACCCGUUAAAGGGCAAAAGUCUAGGGCCAGCGGAGCUGAAAGCUUUCUUUCUACCGGUUCGCCAGCCACUAACUGGUUACUCAAGAGGUACGCAGUCUCCCAUAGGCAGCUUCCGGCGGACCCCACGAGAGGAAUGGACGCUUGUUCCGGUGAGCUUUAUUACCUGGACCAGCUGGCCCGUCCUAGUCUUAAUAUAACAGUGAGGUGA'"
      ],
      "metadata": {
        "id": "ZXQdbP5TtyYh"
      },
      "execution_count": null,
      "outputs": []
    },
    {
      "cell_type": "code",
      "source": [
        "# ваш код"
      ],
      "metadata": {
        "id": "-s7AJj7ztvc-"
      },
      "execution_count": 1,
      "outputs": []
    },
    {
      "cell_type": "code",
      "source": [
        "assert OUTPUT == 'MLGASGLLHLIGTRPVAQLNLRHETAHAESGRLGVTPKANGEVDVTYRNLLCLSIVVRPPYSDTPSWNVLHSIGDAKNGNLDIVKHRVSPLMFRPRFVLCFFQSNKGSTRGLRPKKYLGITHLQEIHRAFHYGKVGRAAWFRITQILVGGSLTVSKNGTVTARISGPCWPVNTQRGSSNPGCAIIDSVLWRLDVPLYLSAMADRKHCRFQEVFTMNKTQPPWLYIKEDQKYGGAPDEALVVGYADGSFVLAQRNGTGSHRFWYRDWAFSPHHSCGDEHAIRGAGSHYRDNSMRGAHVLNIANCLKGSYRDLSSSFIFAACNCPWSHRTSPTCEIPGEVAASARGLPSTLSEPISRESSLGGVLMRGALRNKARRSAYDTKTAPFPIHACALHSSCDDCSSIVPHVSGLFKEDLQHPERPKDIRIRVHTSYANASSSCDTCSGGLGGMDRVEMARSKISPKVVHWITNRSLDYSTLRIEQSTHALGLFLSTRAHGRALSKPACDSSQRYSDNILPCDNQLQILAIPRSYKLDIAGQLRCQASTSEVASTSTSSVKLQEWGEPAKPRRDTPDHELHARPMGSGGASPRPLRLLTSLIWVDREGVSWEMGAAVREVTLGSPGGMPWGAYIEFHRSFTNIRHSRGALASFTNRVTISSGGDLGVLGGFMVHLLIAEVEGSHVSRIQIYYHSFVSSLLLPWRSGKTGLMYPFFQVCATRSNCPANGFAHPLAVSQLDGAHTDQPINPFRSELTHIDPCHRTAHISHDERSHAVSVLYHQPPHPGLTNSRTILRFRRPVASNYSCSSPAGNARGALLSVARTFVNRWVERSYDARETCRVKVPTCWIVHWTLLIYRAAGRHEMFARFSMYQGGWAQARCPLSSVISVFHLLWCSRSSTRRFTDLSPPPRAKTLAPRRLGKRKGHAKCRCIAYNDGLRVLLNIIFRGNAARSLNWAGLSTAPVPSGKPEQCGSEDRQEIPAFRLHGIRATSLPITWLRFHLLDNGRLRKLTYCWRYHHLGTVGTGRPGRTKRREVLRRTLLVDGFSIVSLHGLLCLRAISSAQWRKPSNVTRYTSVTHAQKQTMTSVITKPPVRLRYAGTTLIERSQRSSPVSRLLLLRTHPSIVLTRYFELVRWGGHSFYAVMVIQFRSELRLNTDSSVQSTTIWVAYGRIGVPKRAESPTGLHLSRSLLKCAAGLLSGPTHTRSCATSLVQLDPCSVDKNIFIRSYTLNSKGYRSLMNVVLVHTLNCRPKLNRPPYSGRESGPPTEVFRSGLYTVARTSPPDPLLNVWQSSPLSGRRGSEAATGSKTSYTDLGALTGIDVVQGGLFLHVLTILSFGQTSFGDMANSLTIFCIMINPCSCLDPSPKWAIDTLIARSIEYKLTGCSLSLSVDRSSLKPTQSLGSSPCLPVGGTHLMNERGELLVLVRKLSESLCFLAVLYVIQYVSVRFGENSRLKVRSQCYSTPTQSVRDLFDDSAVFGGRVDITIRIGVGRGRHVRKFTFIIHHSQYVTPRRAFALWLQPRHRAYQTTSGTMLVLLPSSHSSAYTELRMTWEEPARLDRRQQTHSRLSGPGLSNQSRANYSIVSLLFVVTKTDASIQSISGCLLTSSRGPMHVTMSTSQNNLKPMATGWLAPRKWGPCTRYQKFRSRDESAIGTSHRGAYCEGVKPRAHQNLGKQGRPLKDDKVGRRGDQLALRTSKLVLQRRRPLTRMVSSLTSVGIARHSSLNFAQVKSVRVEPSIADSGDHYRRGLLSQTGRKGLPRRSYTHQLGGGSKPRPRICSIPQVIPLRGSVGANRPTLSVMRCGGGTQTCSSLYTKPALTTLEFRLKSKTVQTLGRKPHHMSWRHSTSHPRHGKKWLIACITVLVGGTGFMYMDMERGMPPVGLTLLHTRRLVRPCSLASRFDRGLIIPKVGRPQLVLNALDWCAIVVLTTGTPSVENLLLTTRGLRPPPQLSDDLLHYRNQRDSDLREPLASQRAHSSLVQSGGPRPTMGIIDMVLIAKYRNQKTLSCVYEIHDYKTHATPGPGSNLNNLRDCCHRSQISHTHNKTDSWPRTRAIPRKIFFRLIQDDSISQIQRGCRALGSMATFQSHCNLGSPIPSSRGALERSGSSLNVLFNAESDANLSNCRRRVKRPFPVVFPEPNIPEGTWAHRKQFYAGTAYVPIVRRLPRTDSVGVKPVPNVHWSLGSTEQLREGYKPSITLFALRRYDGENPSMVPAPTRPCDVLEAFTGVVLARQQYASNVPNSDENNTLSSILPHHVLFRGSTRAGPNGDYKAQKRYCIDVKTTVYNGPRKVCSREYADLGFLFSGHRFHKWFVWRKTISLNLTSASDVCPTTEALLLVEHNRAVMPDPICCSPFSGPDQNYPWYGAKEQDWTLSIVGKPLPDLHPCWIKPKVSYRSSRCGTSGNLSTTIAPAAYPINPTTWAVFITGYVNPGCQLSRNNRTRATGHSTFIPRPPLLYRIDKLGPFKRRNDLMRMTKRVCMLLSRHYIKDSRRVTGHFFPGNALSGLRIMSDSTKFAVLSVVNQVRVRSTDAYRHHEYDTIATTSGNVHPKRSNLTTPEYEGTLSNEALFPATPVAGVMRETPVDYADATIALLLMSCKSVTVWTSSRYSSYVSLLHLILVALRTPSAQKLATEHGHGLRLEPTVSLTACPRPSFWCYLSASLVRSSSSLIKSANTVWLLTEAPSVFGQLQWALLHCYQLGHLGLAAPRNSAFKETQIVPKPEIYGGAICCPLQLPVKGQKSRASGAESFLSTGSPATNWLLKRYAVSHRQLPADPTRGMDACSGELYYLDQLARPSLNITVR', 'не совпало, попробуй еще!'"
      ],
      "metadata": {
        "id": "Mgs48V82uFT2"
      },
      "execution_count": null,
      "outputs": []
    },
    {
      "cell_type": "markdown",
      "source": [
        "# Работа с файлами и формат FASTA"
      ],
      "metadata": {
        "id": "LtsOlvxLzSDy"
      }
    },
    {
      "cell_type": "markdown",
      "source": [
        "Мы тут кое-что от вас утаили: большая часть заданий выше может решаться проще через библиотеку **Bio**. Биопитон вообще полезная штука, но для наших целей не обязательная) Нам она понадобится для того, чтобы читать **FASTA файлы**."
      ],
      "metadata": {
        "id": "pIX4uFbs4EzF"
      }
    },
    {
      "cell_type": "markdown",
      "source": [
        "Дело в том, что на ресурсах, где выложены биологические последовательности, они выложены не просто строками. Существует специальный формат, в котором они записываются - он учитывает как саму последовательность, так и метаданные (номер последовательности, чья это последовательность, где она расположена, ДНК это или РНК etc). Их, разумеется, можно рассматривать как обычные строки и от метаданных избавляться привычными методами работы со строками. Но зачем, когда есть более удобные инструменты)\n",
        "\n",
        "![picture](https://drive.google.com/uc?export=view&id=1ufQC0YfeLE7XGCjCScsquosx39fMV1GA)"
      ],
      "metadata": {
        "id": "DllJi6u_40da"
      }
    },
    {
      "cell_type": "markdown",
      "source": [
        "Сперва загрузим библиотеку Bio: **pip install** - стандартная команда для установки новых библиотек, с которыми наш питон еще не знаком"
      ],
      "metadata": {
        "id": "jE664pXS5kIi"
      }
    },
    {
      "cell_type": "code",
      "source": [
        "!pip install Bio"
      ],
      "metadata": {
        "colab": {
          "base_uri": "https://localhost:8080/"
        },
        "id": "twr6NJ2-4Bnm",
        "outputId": "129756f8-310f-498e-faea-4b3c4394224d"
      },
      "execution_count": null,
      "outputs": [
        {
          "output_type": "stream",
          "name": "stdout",
          "text": [
            "Requirement already satisfied: Bio in /usr/local/lib/python3.7/dist-packages (1.3.3)\n",
            "Requirement already satisfied: biopython>=1.79 in /usr/local/lib/python3.7/dist-packages (from Bio) (1.79)\n",
            "Requirement already satisfied: tqdm in /usr/local/lib/python3.7/dist-packages (from Bio) (4.62.3)\n",
            "Requirement already satisfied: mygene in /usr/local/lib/python3.7/dist-packages (from Bio) (3.2.2)\n",
            "Requirement already satisfied: requests in /usr/local/lib/python3.7/dist-packages (from Bio) (2.23.0)\n",
            "Requirement already satisfied: numpy in /usr/local/lib/python3.7/dist-packages (from biopython>=1.79->Bio) (1.19.5)\n",
            "Requirement already satisfied: biothings-client>=0.2.6 in /usr/local/lib/python3.7/dist-packages (from mygene->Bio) (0.2.6)\n",
            "Requirement already satisfied: urllib3!=1.25.0,!=1.25.1,<1.26,>=1.21.1 in /usr/local/lib/python3.7/dist-packages (from requests->Bio) (1.24.3)\n",
            "Requirement already satisfied: chardet<4,>=3.0.2 in /usr/local/lib/python3.7/dist-packages (from requests->Bio) (3.0.4)\n",
            "Requirement already satisfied: certifi>=2017.4.17 in /usr/local/lib/python3.7/dist-packages (from requests->Bio) (2021.10.8)\n",
            "Requirement already satisfied: idna<3,>=2.5 in /usr/local/lib/python3.7/dist-packages (from requests->Bio) (2.10)\n"
          ]
        }
      ]
    },
    {
      "cell_type": "markdown",
      "source": [
        "Bio - невероятно большая библиотека с кучей своих фишечек. Если вам интересно, можно почитать официальную документацию, но, опять же, нигде нам это потом не понадобится. Понадобится только по фасте гоняться - для этого импортируем только модуль **SeqIO**\n",
        "\n",
        "https://biopython.org/wiki/Documentation"
      ],
      "metadata": {
        "id": "E7s_r21h5y61"
      }
    },
    {
      "cell_type": "code",
      "source": [
        "from Bio import SeqIO"
      ],
      "metadata": {
        "id": "Ac5-ulIhuM0c"
      },
      "execution_count": null,
      "outputs": []
    },
    {
      "cell_type": "markdown",
      "source": [
        "Теперь надо подгрузить файл, который я скинула в ТГ, в колаб. Для этого сначала сохраняем его, а потом в колабовском меню слева нажимаем на значок с файлом и выбираем \"загрузить в сессионное хранилище\" - это самая левая кнопка. Выбираем нужный файл. Выскочит предупреждение, оно, по сути, о том, что раз в N вам придется этот файл переподгружать - ноутбук бесплатный, оттого не вечный)"
      ],
      "metadata": {
        "id": "xRpRYHJ978JC"
      }
    },
    {
      "cell_type": "markdown",
      "source": [
        "Для того, чтобы гоняться по фасте, существует команда **SeqIO.parse**"
      ],
      "metadata": {
        "id": "_l-yZkBy9vEf"
      }
    },
    {
      "cell_type": "code",
      "source": [
        "SeqIO.parse(\"example.fasta\", \"fasta\")"
      ],
      "metadata": {
        "colab": {
          "base_uri": "https://localhost:8080/"
        },
        "id": "YKQEgZsA9l1_",
        "outputId": "20b32872-04a9-410a-998e-860e0145d074"
      },
      "execution_count": null,
      "outputs": [
        {
          "output_type": "execute_result",
          "data": {
            "text/plain": [
              "<Bio.SeqIO.FastaIO.FastaIterator at 0x7f7c8e2f3590>"
            ]
          },
          "metadata": {},
          "execution_count": 17
        }
      ]
    },
    {
      "cell_type": "markdown",
      "source": [
        "Если запустить эту команду, видно, что это итератор - некий объект перечислитель, который при каждом вызове выдает следующий объект в массиве. "
      ],
      "metadata": {
        "id": "PaXHVQoS-qlA"
      }
    },
    {
      "cell_type": "code",
      "source": [
        "# пример итератора\n",
        "numbers = [1, 2, 3, 4, 5]\n",
        "itr = iter(numbers)"
      ],
      "metadata": {
        "id": "q1x63eXKBE9M"
      },
      "execution_count": null,
      "outputs": []
    },
    {
      "cell_type": "code",
      "source": [
        "next(itr)"
      ],
      "metadata": {
        "colab": {
          "base_uri": "https://localhost:8080/"
        },
        "id": "os-JKl_8BP3F",
        "outputId": "1dfa2e9e-394b-42ba-824d-493ce46478da"
      },
      "execution_count": null,
      "outputs": [
        {
          "output_type": "execute_result",
          "data": {
            "text/plain": [
              "2"
            ]
          },
          "metadata": {},
          "execution_count": 20
        }
      ]
    },
    {
      "cell_type": "markdown",
      "source": [
        "Проще говоря, в нашем файле есть 5 разных последовательностей с описанием и итератор сначала выдаст первую, потом вторую и так далее. Удобнее всего при этом использовать for и по очереди получать все последовательности."
      ],
      "metadata": {
        "id": "VY4k7g6XBD_J"
      }
    },
    {
      "cell_type": "code",
      "source": [
        "for i in itr:\n",
        "  print(i)"
      ],
      "metadata": {
        "colab": {
          "base_uri": "https://localhost:8080/"
        },
        "id": "JUmSVdw8BV7m",
        "outputId": "27c66b78-c43e-4b30-dca0-2f71fbf77377"
      },
      "execution_count": null,
      "outputs": [
        {
          "output_type": "stream",
          "name": "stdout",
          "text": [
            "1\n",
            "2\n",
            "3\n",
            "4\n",
            "5\n"
          ]
        }
      ]
    },
    {
      "cell_type": "code",
      "source": [
        "for record in SeqIO.parse(\"example.fasta\", \"fasta\"):\n",
        "    print(record)"
      ],
      "metadata": {
        "colab": {
          "base_uri": "https://localhost:8080/"
        },
        "id": "y54BZrOb3_8P",
        "outputId": "32a6e432-bfb2-4c62-cafa-fd107f55b430"
      },
      "execution_count": null,
      "outputs": [
        {
          "output_type": "stream",
          "name": "stdout",
          "text": [
            "ID: Rosalind_4816\n",
            "Name: Rosalind_4816\n",
            "Description: Rosalind_4816\n",
            "Number of features: 0\n",
            "Seq('ATGCCGCTACACTTGGCATAACGCGAGTGCAGCCGGAAAACTATCACGGACGCT...GAA')\n",
            "ID: Rosalind_2645\n",
            "Name: Rosalind_2645\n",
            "Description: Rosalind_2645\n",
            "Number of features: 0\n",
            "Seq('TCAAGGATCTCCCCGCGCTTCTTCGTTTCTCTCGCGCCCCAAATCATCGCCATA...TTC')\n",
            "ID: Rosalind_1570\n",
            "Name: Rosalind_1570\n",
            "Description: Rosalind_1570\n",
            "Number of features: 0\n",
            "Seq('GTTCAACACGTGTTACAAGATGTCTACCTACGATCATAGTGAAGGCGACCTTTC...CCG')\n",
            "ID: Rosalind_3623\n",
            "Name: Rosalind_3623\n",
            "Description: Rosalind_3623\n",
            "Number of features: 0\n",
            "Seq('CGGTAAATGCTAGGCGCACGTTCTTCCTTGTTGGAACTATGAGGACAAGGACGG...GCC')\n",
            "ID: Rosalind_0481\n",
            "Name: Rosalind_0481\n",
            "Description: Rosalind_0481\n",
            "Number of features: 0\n",
            "Seq('TGTAACAATAAGTACAAGTCTCCTCATCACAAGGGACAAACCAGACTAGAGTAC...CTC')\n"
          ]
        }
      ]
    },
    {
      "cell_type": "markdown",
      "source": [
        "Такая штука выглядит страшно, потому что на выходе голую последовательность она не дает) Но мы таки можем ее получить - при помощи функции **seq**. Если в какой-то задаче нам понадобится еще и идентификатор последовательности, можно будет использовать функцию **id**"
      ],
      "metadata": {
        "id": "fNxt_l_9-wki"
      }
    },
    {
      "cell_type": "code",
      "source": [
        "for record in SeqIO.parse(\"example.fasta\", \"fasta\"):\n",
        "    print(record.seq)"
      ],
      "metadata": {
        "colab": {
          "base_uri": "https://localhost:8080/"
        },
        "id": "iqiWS10S_b2o",
        "outputId": "ce8cb351-529c-4c7d-bef1-193e4d3a1a49"
      },
      "execution_count": null,
      "outputs": [
        {
          "output_type": "stream",
          "name": "stdout",
          "text": [
            "ATGCCGCTACACTTGGCATAACGCGAGTGCAGCCGGAAAACTATCACGGACGCTATCGTTCACTACCACTTGTCCTGAATCTTACGTATGACTCACCTAGGTCATCTCGCTAGCATATAAGGGTTAACTTCGAAAGATAGAACCTTAACAAGGCGAAGTTACCACCGGCTTCGTACGGGAGACCGCACGATGTCCTAGCCAGAGCCCGCAGTCTAGTGGAAATACTCTGCATCCGGACTTATTAAATTGTAAGCCCAGCAGGGTTAGGGGCAGGGAACCGTTTCTCTGGGTACTGCATGCGGCGTTACACAAGGGTTAGGCTCCGGGGCTCTTGCGGTCCCATCAGTCCGAATTGAGTCTGAATCGAAGCAGCGGAATGTTAGGGGCTGGTGATGTCCGTGCAATACTTTTGTTATACTCAGTACCTACGGACTGGCTACTGCCTCGGGATAAGCCGGACTTAGCGCGGAACCCATGTGACGGAGTCCCGACTGACGCGGCCAGTACGTCCTATTCGTTGTCACGCTCACCAGATACTGGAAAGCATGGGCGATTCTCACACAAGGACAGCCACAAAAGATACTGGTTTCCTATTTCGTCGCACAATGCTGATTTCAGTTTACCTGGAATACTTGTTTCCGCAGCAGCGGCAGTCACACAGTTCGGAGAATATGGCCAGATGGAGAACTAGTATGCTCTTCTGGTGGGCCATAGATAGTTATTCCTTGAACGAGAGAAAACTTTCAATGGTATGGACTTAGTAAGGTACATCCGTCAGCGCGCGCCGGACTGCACGGGGTCAAAAAATGAAGTTAATAAACGTCAAGTATCGTAGTGAA\n",
            "TCAAGGATCTCCCCGCGCTTCTTCGTTTCTCTCGCGCCCCAAATCATCGCCATATGCAATCAGTAGCGCCGTCTACACAGGGACTGGGGCAACAGAACGCATTGTTGCCTGTCAAGCCCTCCACCGCTATGTAAGAGCACGTTAGACCAACTTACCACGACCAAGACTTTCACCGTCACTGGTAGCAGCTTTTAGCGAAATTGCGGCGGTATTCCAAAACGCGAGCTTGTCCCGTGACGAGGGACGGTCCAATACGTGTAGTCGGAGCATCGCGCAAGGACCCCACCCAATCAGAGTGCTCAGCGTAATTGAAAAATCGACTCGAATGTTACTCTGCCTGTGCGGGCTAGTGGCACTCGTCGTCTGGTATGCTAGCGGGACGTCTGGCCTACCTCTTCCAACTAGATCTATACTTAACTTTTACTTTTGCTGTGGTGACCTTACACCGCCCAGGTTCGTTGTACGTAGCACTTGACACTACCAGGTTAAAAAACTCTGTTCCAATACTAAGGTGAAGACCTGATTGATTGGTAATGTTTTAGTGTGTACTCCTTAACAGATTACAATACTACCGACGCAAGAATCTAGAGATATTAGCAGAACCATGGCACATGTAGAGTAATCAATTGCCACAACCTGACGACTCGCGTTGTTATCACTTTCTCCCCGGGGGGACCCTCGTCGCCTGCCGGATCATGACTTTGGTGACCCCCAGCAAGTACGCCGGGGGGTTGAAAGCTGGTGGTACTAGTATTATATCATTGAGTTGGTGCCACCTGATCGCGACGATCCAGCATCTTAGGAAGTGCTTACATACCCGAAACATGTTC\n",
            "GTTCAACACGTGTTACAAGATGTCTACCTACGATCATAGTGAAGGCGACCTTTCGCGATATAGAACACAGACTCCCTGCCCAGCCGATCACGTAAACGTACGCTCACCGAGGTAGCGATCGATTAGTGCAGATGAGATGATATTAAATATGGTCAGGCATTTCTGTAGTACTCAGCGTAATGCATAATAGACAGAGCCAGGGCATGGAGGCGTCCATACGTGAGGGCGATATGTACCAGGTTCGCGACACAGAGCGACTTCGTTTCCGCCCTATATTACAGATTGGCGGTATCGTATTGGTCCCCCACTTTAACTCTGGGTCACAATTACATGCACCGGGTAAATCCCTGAAAGAGATTCTCGTGTGCACTGTCCGTTGGTATGTCGGGTAGCGTGAATATAGGGCAGTTGAGGTCACCGACAATGTCATTGGACATGTTTATGTGTGAGAGGACTTCGGGCAATCCCACCTAAATAGCACTATACCGGGGGCGGACGTGTTACTCGACCCGTCATCAATATAGTCCCAGCGTGAGTCACCCCGTTCACTATAAAAAGATCGAGTCAAGACGCCGTCGTCGGGGACGAAAGAACTGGTTACGCAACTCAGTTAAGGAATTAATGCAGGTTGCGTAAACCCAACTGACACCAGAAGGTTAAGGATAGGCCAGCTTTATGTGCTCACATCAGAATCTATGTCTAATAAACATTTAACCTTTATACTTCGGTACCCCTCACTGTAAATCTAGGGCGAGACATCAGCCAGAATAACTTCCCCGTAAGGGTAATTATAAACAAATCCTGTACTAGGGCTCCACCGATAATACTTTATTCTTTTAAGTGGTCTAACCACTTACGAGGACGGAAGTTCATAGCGGCGAGAATAGCCTTGGGCCCCGTAAAAGTTCATGAAATGCACAAGCGAACCCCTCCCCAATCCGTAGGCACGACACCCCGACCCATTAGGGCGCGAACTAGATATCATAAACCCCG\n",
            "CGGTAAATGCTAGGCGCACGTTCTTCCTTGTTGGAACTATGAGGACAAGGACGGCATGGCTCGCGCTTAGTTGTCCCATTGACTTCTTCGCGCTAAGAGACGGTGTGGGAGAGGACGAGGGAGATCCAAGGCCATGTCGTTATTGCTACAGCCCGATTAGGGTCCTCATCGCGAAACGTCAGCGCCGTTCCAAGCATGTGCTCGCGGTCTAAGTAATACTCGAACCCCAACTGAGCACCAAATGGAACACAGGCGACTGACCACGGACAGGCCTACCCGTACCCGTTATCCAAAGAATGTACCTCATTACGTGTATTATTGTCTGGATCTGTGGATTCTCATCATGCTGGGGTGGGTATGACACATTCTCCCCTCACCCGTATCAAGTAGCGCGAAACACATTACGAGGAGATATTGGTCACAGTAACGGATACTTACAGTCGCGTTCCCTCGAGCGATAGTTGGGCTAGCAAAAAATTCATTACTGATGGGACGTAATTATTTCGCCAAACGCTGGCGTGAGGTCTCAGGCAGTTGAATTATATTGGTTAAGAGGCCGCCATGCGAATTGGAAAAGCTTAGTGTGGTGCTTACGCACCTGGCTGCTATGCGTCTCGATCGGGACAAAACTAGATATTAGTGGTATCTGAACCCGCTCAGTCGTCCCGACAGAAGGAGGCCAGGCGGAGTCCGAGCCATATGCTGGTCAGCGCGAAAATTCGTAATGTGCTGGCGCCACTCCACTTAATCATAGGGTCTGTAGGTTTCCGTCTTGATCTTCCACAAGGTGGTAACACGACCCAATCGGATACACGGGACAGTCAAACGGTCAGGCCCCCACAGGAGGGGGCGATAGGCCCCTCCATGACTGCCTTTTAACAATTGTATCTCGCATACGGGAGCATAAAAATATTCGGCAATCGTCTTTAAATATTACCATCCATCGGCAGCCTTTCGCGAAGCGCC\n",
            "TGTAACAATAAGTACAAGTCTCCTCATCACAAGGGACAAACCAGACTAGAGTACTAATTGTGAGACTTCCATGCAAGTGCCCGCTTAGATCTGTGAACGCTAATGAAGGAGGGAACTATACTTCGGAGGTTCCTTTGAAATTTTGTGCTCGGTCCGCGCACCCTACTCAGTGAAACTATGCTTGATAGGCTAATCGTCCGCACTGATGTTATTACTTACGTACCCTAGAGCCAGAGAAGACCGCGGCCATTATAGGCGTAGGTAACCCACAGGAGTTGATCTTGGTCTCATCCGCAATTTGGCAGGCCACGATCGACCCACTTGGTGTAGAAGTGAAGCCATAGCTGTCGCAGCGCTTGCTTATTAAAGCTCTAGGCTGTGGGAGAAGTTGGCTCACGCACAGGGTGGATTGGTCTTGGTCCAACGGCCCATAACGGGAAAAACTGAGGAACGCAGCTGTCTAGCCTCGATGACGGTACTATACTTACTACGAAGATAAGTAGTTGACCAGAATGAGCCCAGCTTTTACTTAAATCTCTTGGGCCAAATCATTCGTTACTTGGTCCCCATACATTAGTTACGACCTCCGCAGTGAACATTGCCAAGCACGTTGCAGTTAGCCGGTTGTGGCTGAAACGGTCGACTTGGTGGTCAAGCCTACCCGACGCCCCGGTCTGTGTGAGAGCCTTCGGAAAAGAGCCAGTTCGCTAGTCTAATATGAGCTATTGTGTTTCACGATGATTGGATCGGGCGAGGTCCATGACCGTCGGGTCATTTTCGCACTCGTCAGTTTACCGCACCAGGACGGCGGTACCCTATAGTTGAGGGCTGGCAAGGACCAGGACTGGCTCCGATATGATTTGGAGCAATAGAACTTCTACTC\n"
          ]
        }
      ]
    },
    {
      "cell_type": "code",
      "source": [
        "for record in SeqIO.parse(\"example.fasta\", \"fasta\"):\n",
        "    print(record.id)"
      ],
      "metadata": {
        "colab": {
          "base_uri": "https://localhost:8080/"
        },
        "id": "HFnVLQv-_sRc",
        "outputId": "e299537e-0586-443c-9c32-e3d9d8a66c71"
      },
      "execution_count": null,
      "outputs": [
        {
          "output_type": "stream",
          "name": "stdout",
          "text": [
            "Rosalind_4816\n",
            "Rosalind_2645\n",
            "Rosalind_1570\n",
            "Rosalind_3623\n",
            "Rosalind_0481\n"
          ]
        }
      ]
    },
    {
      "cell_type": "markdown",
      "source": [
        "### С FASTA файлами мы поработаем в следующий раз, поздравляю с прохождением первого ноутбука (.❛ ᴗ ❛.)"
      ],
      "metadata": {
        "id": "NvvERPwYAJB1"
      }
    }
  ]
}